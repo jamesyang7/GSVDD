{
 "cells": [
  {
   "cell_type": "code",
   "execution_count": 3,
   "metadata": {},
   "outputs": [],
   "source": [
    "import sys\n",
    "import numpy as np\n",
    "sys.path.append('../')\n",
    "from deepod.models.time_series import DCdetector as model\n",
    "from load_data import load_data\n",
    "from deepod.metrics import ts_metrics\n",
    "from deepod.metrics import point_adjustment "
   ]
  },
  {
   "cell_type": "code",
   "execution_count": 4,
   "metadata": {},
   "outputs": [],
   "source": [
    "train_imu,train_audio,train_spec,val_imu,val_audio,val_spec,val_imu_normal,val_audio_normal,val_spec_normal = load_data()\n",
    "\n",
    "train_combine = np.concatenate([np.mean(train_audio,axis=-1),train_imu],axis=1)\n",
    "\n",
    "test_audio_all = np.concatenate([val_audio_normal,val_audio],axis=0)\n",
    "test_imu_all   = np.concatenate([val_imu_normal,val_imu],axis=0)\n",
    "test_combine = np.concatenate([np.mean(test_audio_all,axis=-1),test_imu_all],axis=1)\n",
    "\n",
    "labels_all = np.concatenate([np.zeros(val_audio_normal.shape[0]),np.ones(val_audio.shape[0])])"
   ]
  },
  {
   "cell_type": "code",
   "execution_count": 5,
   "metadata": {},
   "outputs": [
    {
     "name": "stdout",
     "output_type": "stream",
     "text": [
      "Epoch 1\n",
      "Epoch 2\n",
      "Epoch 3\n",
      "Epoch 4\n",
      "Epoch 5\n",
      "Epoch 6\n",
      "Epoch 7\n",
      "Epoch 8\n",
      "Epoch 9\n",
      "Epoch 10\n",
      "Epoch 11\n",
      "Epoch 12\n",
      "Epoch 13\n",
      "Epoch 14\n",
      "Epoch 15\n",
      "Epoch 16\n",
      "Epoch 17\n",
      "Epoch 18\n",
      "Epoch 19\n",
      "Epoch 20\n",
      "Epoch 1\n",
      "Epoch 2\n",
      "Epoch 3\n",
      "Epoch 4\n",
      "Epoch 5\n",
      "Epoch 6\n",
      "Epoch 7\n",
      "Epoch 8\n",
      "Epoch 9\n",
      "Epoch 10\n",
      "Epoch 11\n",
      "Epoch 12\n",
      "Epoch 13\n",
      "Epoch 14\n",
      "Epoch 15\n",
      "Epoch 16\n",
      "Epoch 17\n",
      "Epoch 18\n",
      "Epoch 19\n",
      "Epoch 20\n",
      "Epoch 1\n",
      "Epoch 2\n",
      "Epoch 3\n",
      "Epoch 4\n",
      "Epoch 5\n",
      "Epoch 6\n",
      "Epoch 7\n",
      "Epoch 8\n",
      "Epoch 9\n",
      "Epoch 10\n",
      "Epoch 11\n",
      "Epoch 12\n",
      "Epoch 13\n",
      "Epoch 14\n",
      "Epoch 15\n",
      "Epoch 16\n",
      "Epoch 17\n",
      "Epoch 18\n",
      "Epoch 19\n",
      "Epoch 20\n"
     ]
    }
   ],
   "source": [
    "clf_imu = model(epochs=20,batch_size=4,seq_len=10,stride=10)\n",
    "clf_imu.fit(train_imu)\n",
    "clf_audio = model(epochs=20,batch_size=4,seq_len=10,stride=10)\n",
    "clf_audio.fit(np.mean(train_audio,axis=-1))\n",
    "clf_all = model(epochs=20,batch_size=4,seq_len=10,stride=10)\n",
    "clf_all.fit(train_combine)"
   ]
  },
  {
   "cell_type": "code",
   "execution_count": 6,
   "metadata": {},
   "outputs": [],
   "source": [
    "scores_audio      = clf_audio.decision_function(np.mean(test_audio_all,axis=-1))\n",
    "scores_imu        = clf_imu.decision_function(test_imu_all)\n",
    "scores_all        = clf_all.decision_function(test_combine)"
   ]
  },
  {
   "cell_type": "code",
   "execution_count": 7,
   "metadata": {},
   "outputs": [
    {
     "name": "stdout",
     "output_type": "stream",
     "text": [
      "(0.511292509801967, 0.4003715468694221, 0.566114597477189, 0.3948155533399801, 1.0)\n",
      "(0.4777285602737905, 0.38366937147183544, 0.565710228763788, 0.3944223107569721, 1.0)\n",
      "(0.5083898192450824, 0.4005213636518429, 0.5663169986929482, 0.3950124688279302, 1.0)\n"
     ]
    }
   ],
   "source": [
    "#auc, mean precision, F1, percision, recall\n",
    "eval_metrics_audio = ts_metrics(labels_all, scores_audio)\n",
    "eval_metrics_imu = ts_metrics(labels_all, scores_imu)\n",
    "result_audio = eval_metrics_audio\n",
    "result_imu = eval_metrics_imu\n",
    "eval_metrics_all = ts_metrics(labels_all, scores_all)\n",
    "result_all = eval_metrics_all\n",
    "\n",
    "print(result_audio)\n",
    "print(result_imu)\n",
    "print(result_all)"
   ]
  },
  {
   "cell_type": "code",
   "execution_count": null,
   "metadata": {},
   "outputs": [],
   "source": []
  },
  {
   "cell_type": "code",
   "execution_count": null,
   "metadata": {},
   "outputs": [],
   "source": []
  },
  {
   "cell_type": "code",
   "execution_count": null,
   "metadata": {},
   "outputs": [],
   "source": []
  }
 ],
 "metadata": {
  "kernelspec": {
   "display_name": "ai",
   "language": "python",
   "name": "python3"
  },
  "language_info": {
   "codemirror_mode": {
    "name": "ipython",
    "version": 3
   },
   "file_extension": ".py",
   "mimetype": "text/x-python",
   "name": "python",
   "nbconvert_exporter": "python",
   "pygments_lexer": "ipython3",
   "version": "3.8.19"
  }
 },
 "nbformat": 4,
 "nbformat_minor": 2
}
