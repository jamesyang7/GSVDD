{
 "cells": [
  {
   "cell_type": "code",
   "execution_count": 1,
   "metadata": {},
   "outputs": [],
   "source": [
    "import sys\n",
    "import numpy as np\n",
    "sys.path.append('../')\n",
    "from deepod.models.time_series import TranAD as model\n",
    "from load_data import load_data\n",
    "from deepod.metrics import ts_metrics\n",
    "from deepod.metrics import point_adjustment "
   ]
  },
  {
   "cell_type": "code",
   "execution_count": 2,
   "metadata": {},
   "outputs": [],
   "source": [
    "train_imu,train_audio,train_spec,val_imu,val_audio,val_spec,val_imu_normal,val_audio_normal,val_spec_normal = load_data()\n",
    "\n",
    "train_combine = np.concatenate([np.mean(train_audio,axis=-1),train_imu],axis=1)\n",
    "\n",
    "test_audio_all = np.concatenate([val_audio_normal,val_audio],axis=0)\n",
    "test_imu_all   = np.concatenate([val_imu_normal,val_imu],axis=0)\n",
    "test_combine = np.concatenate([np.mean(test_audio_all,axis=-1),test_imu_all],axis=1)\n",
    "labels_all = np.concatenate([np.zeros(val_audio_normal.shape[0]),np.ones(val_audio.shape[0])])"
   ]
  },
  {
   "cell_type": "code",
   "execution_count": 3,
   "metadata": {},
   "outputs": [],
   "source": [
    "train_audio = np.mean(train_audio,axis=-1)\n",
    "train_audio = train_audio.reshape(-1,1)"
   ]
  },
  {
   "cell_type": "code",
   "execution_count": 4,
   "metadata": {},
   "outputs": [],
   "source": [
    "# train_imu = train_imu[:,:,np.newaxis]"
   ]
  },
  {
   "cell_type": "code",
   "execution_count": 5,
   "metadata": {},
   "outputs": [],
   "source": [
    "# train_imu = train_imu.reshape(-1,1)\n",
    "# test_imu_all = test_imu_all.reshape(-1,1)"
   ]
  },
  {
   "cell_type": "code",
   "execution_count": 4,
   "metadata": {},
   "outputs": [
    {
     "name": "stderr",
     "output_type": "stream",
     "text": [
      "/home/iot/anaconda3/envs/ai/lib/python3.8/site-packages/torch/nn/modules/transformer.py:306: UserWarning: enable_nested_tensor is True, but self.use_nested_tensor is False because encoder_layer was not TransformerEncoderLayer\n",
      "  warnings.warn(f\"enable_nested_tensor is True, but self.use_nested_tensor is False because {why_not_sparsity_fast_path}\")\n"
     ]
    },
    {
     "name": "stdout",
     "output_type": "stream",
     "text": [
      "Epoch 1,\t L1 = 0.050824097929183736\n",
      "Epoch 2,\t L1 = 0.0232653664001687\n",
      "Epoch 3,\t L1 = 0.018198362932625143\n",
      "Epoch 4,\t L1 = 0.021501501090824604\n",
      "Epoch 5,\t L1 = 0.018315152000551196\n",
      "Epoch 6,\t L1 = 0.02985290742733262\n",
      "Epoch 7,\t L1 = 0.032990856942805374\n",
      "Epoch 8,\t L1 = 0.033986042592335834\n",
      "Epoch 9,\t L1 = 0.04739513586867939\n",
      "Epoch 10,\t L1 = 0.05270653150298379\n",
      "Epoch 11,\t L1 = 0.05392142791639675\n",
      "Epoch 12,\t L1 = 0.051397584209387955\n",
      "Epoch 13,\t L1 = 0.031845593062991444\n",
      "Epoch 14,\t L1 = 0.03035657099363479\n",
      "Epoch 15,\t L1 = 0.032225117849355396\n",
      "Epoch 16,\t L1 = 0.03327802213078195\n",
      "Epoch 17,\t L1 = 0.034288524904034355\n",
      "Epoch 18,\t L1 = 0.029933573678135872\n",
      "Epoch 19,\t L1 = 0.028407635844566605\n",
      "Epoch 20,\t L1 = 0.029421935111961582\n",
      "Epoch 21,\t L1 = 0.028199359943920917\n",
      "Epoch 22,\t L1 = 0.02920049191875891\n",
      "Epoch 23,\t L1 = 0.02844747706231746\n",
      "Epoch 24,\t L1 = 0.02950038498436863\n",
      "Epoch 25,\t L1 = 0.027387919327752155\n",
      "Epoch 26,\t L1 = 0.027531089176508514\n",
      "Epoch 27,\t L1 = 0.029775227504697712\n",
      "Epoch 28,\t L1 = 0.025682076388462025\n",
      "Epoch 29,\t L1 = 0.027876618741588158\n",
      "Epoch 30,\t L1 = 0.02818424254655838\n",
      "Epoch 31,\t L1 = 0.027414883317595177\n",
      "Epoch 32,\t L1 = 0.02819256018847227\n",
      "Epoch 33,\t L1 = 0.026744838888672264\n",
      "Epoch 34,\t L1 = 0.027314583347602325\n",
      "Epoch 35,\t L1 = 0.02627355706962672\n",
      "Epoch 36,\t L1 = 0.024793765507638454\n",
      "Epoch 37,\t L1 = 0.025307495146989822\n",
      "Epoch 38,\t L1 = 0.024820210666141727\n",
      "Epoch 39,\t L1 = 0.02433978867801753\n",
      "Epoch 40,\t L1 = 0.024560416540638966\n",
      "Epoch 41,\t L1 = 0.026292657818306576\n",
      "Epoch 42,\t L1 = 0.025330361994830044\n",
      "Epoch 43,\t L1 = 0.025145625864917583\n",
      "Epoch 44,\t L1 = 0.02631241794336926\n",
      "Epoch 45,\t L1 = 0.02535299863666296\n",
      "Epoch 46,\t L1 = 0.025639824399893932\n",
      "Epoch 47,\t L1 = 0.023341199721802364\n",
      "Epoch 48,\t L1 = 0.02494667275724086\n",
      "Epoch 49,\t L1 = 0.02644136395644058\n",
      "Epoch 50,\t L1 = 0.026136553930965336\n",
      "Epoch 1,\t L1 = 0.16312125528400595\n",
      "Epoch 2,\t L1 = 0.17186711864037948\n",
      "Epoch 3,\t L1 = 0.14006471193649553\n",
      "Epoch 4,\t L1 = 0.10466692698272792\n",
      "Epoch 5,\t L1 = 0.0690294529565356\n",
      "Epoch 6,\t L1 = 0.04437836699865081\n",
      "Epoch 7,\t L1 = 0.037655978548255836\n",
      "Epoch 8,\t L1 = 0.036228855775499884\n",
      "Epoch 9,\t L1 = 0.026258745019070127\n",
      "Epoch 10,\t L1 = 0.02387483746067367\n",
      "Epoch 11,\t L1 = 0.025143929736011407\n",
      "Epoch 12,\t L1 = 0.022112877171655946\n",
      "Epoch 13,\t L1 = 0.020978208631277084\n",
      "Epoch 14,\t L1 = 0.01557431829860434\n",
      "Epoch 15,\t L1 = 0.023707200921225278\n",
      "Epoch 16,\t L1 = 0.01427166319494559\n",
      "Epoch 17,\t L1 = 0.016355629030096516\n",
      "Epoch 18,\t L1 = 0.012182108851530675\n",
      "Epoch 19,\t L1 = 0.015088335912547667\n",
      "Epoch 20,\t L1 = 0.012647241287843579\n",
      "Epoch 21,\t L1 = 0.008825668961931528\n",
      "Epoch 22,\t L1 = 0.019699027063325047\n",
      "Epoch 23,\t L1 = 0.014428169254890898\n",
      "Epoch 24,\t L1 = 0.010664861294737255\n",
      "Epoch 25,\t L1 = 0.008588943805079907\n",
      "Epoch 26,\t L1 = 0.00932825845004779\n",
      "Epoch 27,\t L1 = 0.013998380248350177\n",
      "Epoch 28,\t L1 = 0.008889922446211462\n",
      "Epoch 29,\t L1 = 0.009252907491331413\n",
      "Epoch 30,\t L1 = 0.008528821667740967\n",
      "Epoch 31,\t L1 = 0.006119251571362838\n",
      "Epoch 32,\t L1 = 0.014663614238749935\n",
      "Epoch 33,\t L1 = 0.013326865710868415\n",
      "Epoch 34,\t L1 = 0.009397073769254017\n",
      "Epoch 35,\t L1 = 0.008814965586432001\n",
      "Epoch 36,\t L1 = 0.014843141813550821\n",
      "Epoch 37,\t L1 = 0.007527253654023463\n",
      "Epoch 38,\t L1 = 0.012218791169950484\n",
      "Epoch 39,\t L1 = 0.008826451632061931\n",
      "Epoch 40,\t L1 = 0.0092413526118352\n",
      "Epoch 41,\t L1 = 0.011834972641240298\n",
      "Epoch 42,\t L1 = 0.012609439781623554\n",
      "Epoch 43,\t L1 = 0.01303067463661798\n",
      "Epoch 44,\t L1 = 0.011527539905562828\n",
      "Epoch 45,\t L1 = 0.010450702745319259\n",
      "Epoch 46,\t L1 = 0.007433081413513388\n",
      "Epoch 47,\t L1 = 0.01128596344708719\n",
      "Epoch 48,\t L1 = 0.00524104392851851\n",
      "Epoch 49,\t L1 = 0.0064715122544757005\n",
      "Epoch 50,\t L1 = 0.01174995474469721\n"
     ]
    },
    {
     "ename": "",
     "evalue": "",
     "output_type": "error",
     "traceback": [
      "\u001b[1;31mThe Kernel crashed while executing code in the current cell or a previous cell. \n",
      "\u001b[1;31mPlease review the code in the cell(s) to identify a possible cause of the failure. \n",
      "\u001b[1;31mClick <a href='https://aka.ms/vscodeJupyterKernelCrash'>here</a> for more info. \n",
      "\u001b[1;31mView Jupyter <a href='command:jupyter.viewOutput'>log</a> for further details."
     ]
    }
   ],
   "source": [
    "clf_imu = model(epochs=50,batch_size=4,seq_len=1,stride=1)\n",
    "clf_imu.fit(train_imu)\n",
    "clf_audio = model(epochs=50,batch_size=2,seq_len=1,stride=1)\n",
    "clf_audio.fit(train_audio)\n",
    "clf_all = model(epochs=50,batch_size=4,seq_len=1,stride=1)\n",
    "clf_all.fit(train_combine)"
   ]
  },
  {
   "cell_type": "code",
   "execution_count": null,
   "metadata": {},
   "outputs": [],
   "source": [
    "scores_audio      = clf_audio.decision_function(np.mean(test_audio_all,axis=-1).reshape(-1,1))\n",
    "scores_imu        = clf_imu.decision_function(test_imu_all.reshape(-1,1))\n",
    "scores_all        = clf_all.decision_function(test_combine)"
   ]
  },
  {
   "cell_type": "code",
   "execution_count": null,
   "metadata": {},
   "outputs": [
    {
     "name": "stdout",
     "output_type": "stream",
     "text": [
      "(0.5159536236013262, 0.460431664787213, 0.556200364363793, 0.3852376137512639, 1.0)\n"
     ]
    }
   ],
   "source": [
    "#auc, mean precision, F1, percision, recall\n",
    "eval_metrics_audio = ts_metrics(labels_all, scores_audio)\n",
    "eval_metrics_imu = ts_metrics(labels_all, scores_imu)\n",
    "result_audio = eval_metrics_audio\n",
    "result_imu = eval_metrics_imu\n",
    "eval_metrics_all = ts_metrics(labels_all, scores_all)\n",
    "result_all = eval_metrics_all\n",
    "\n",
    "print(result_audio)\n",
    "print(result_imu)\n",
    "print(result_all)"
   ]
  },
  {
   "cell_type": "code",
   "execution_count": null,
   "metadata": {},
   "outputs": [],
   "source": []
  },
  {
   "cell_type": "code",
   "execution_count": null,
   "metadata": {},
   "outputs": [],
   "source": []
  }
 ],
 "metadata": {
  "kernelspec": {
   "display_name": "ai",
   "language": "python",
   "name": "python3"
  },
  "language_info": {
   "codemirror_mode": {
    "name": "ipython",
    "version": 3
   },
   "file_extension": ".py",
   "mimetype": "text/x-python",
   "name": "python",
   "nbconvert_exporter": "python",
   "pygments_lexer": "ipython3",
   "version": "3.8.19"
  }
 },
 "nbformat": 4,
 "nbformat_minor": 2
}
