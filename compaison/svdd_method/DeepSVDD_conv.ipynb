{
 "cells": [
  {
   "cell_type": "code",
   "execution_count": 1,
   "metadata": {},
   "outputs": [],
   "source": [
    "import sys\n",
    "import numpy as np\n",
    "sys.path.append('../')\n",
    "from deepod.models.time_series import DeepSVDDTS\n",
    "from load_data import load_data\n",
    "from deepod.metrics import ts_metrics\n",
    "from deepod.metrics import point_adjustment "
   ]
  },
  {
   "cell_type": "code",
   "execution_count": 2,
   "metadata": {},
   "outputs": [],
   "source": [
    "train_imu,train_audio,train_spec,val_imu,val_audio,val_spec,val_imu_normal,val_audio_normal,val_spec_normal = load_data()\n",
    "\n",
    "train_combine = np.concatenate([np.mean(train_audio,axis=-1),train_imu],axis=1)\n",
    "\n",
    "test_audio_all = np.concatenate([val_audio_normal,val_audio],axis=0)\n",
    "test_imu_all   = np.concatenate([val_imu_normal,val_imu],axis=0)\n",
    "test_combine = np.concatenate([np.mean(test_audio_all,axis=-1),test_imu_all],axis=1)\n",
    "\n",
    "labels_all = np.concatenate([np.zeros(val_audio_normal.shape[0]),np.ones(val_audio.shape[0])])"
   ]
  },
  {
   "cell_type": "code",
   "execution_count": 3,
   "metadata": {},
   "outputs": [],
   "source": [
    "# train_audio = np.mean(train_audio,axis=-1).reshape(-1,1)\n",
    "# train_imu   = train_imu.reshape(-1,1)\n",
    "# train_combine = train_combine.reshape(-1,1)"
   ]
  },
  {
   "cell_type": "code",
   "execution_count": null,
   "metadata": {},
   "outputs": [],
   "source": []
  },
  {
   "cell_type": "code",
   "execution_count": 4,
   "metadata": {},
   "outputs": [
    {
     "name": "stdout",
     "output_type": "stream",
     "text": [
      "4770 400\n",
      "Start Training...\n",
      "ensemble size: 1\n"
     ]
    },
    {
     "name": "stderr",
     "output_type": "stream",
     "text": [
      "/home/iot/anaconda3/envs/ai/lib/python3.8/site-packages/torch/nn/modules/transformer.py:306: UserWarning: enable_nested_tensor is True, but self.use_nested_tensor is False because encoder_layer was not TransformerEncoderLayer\n",
      "  warnings.warn(f\"enable_nested_tensor is True, but self.use_nested_tensor is False because {why_not_sparsity_fast_path}\")\n"
     ]
    },
    {
     "name": "stdout",
     "output_type": "stream",
     "text": [
      "TSTransformerEncoder(\n",
      "  (project_inp): TokenEmbedding(\n",
      "    (tokenConv): Conv1d(400, 512, kernel_size=(3,), stride=(1,), padding=(1,), bias=False, padding_mode=circular)\n",
      "  )\n",
      "  (pos_enc): FixedPositionalEncoding()\n",
      "  (transformer_encoder): TransformerEncoder(\n",
      "    (layers): ModuleList(\n",
      "      (0): TransformerEncoderLayer(\n",
      "        (self_attn): MultiheadAttention(\n",
      "          (out_proj): NonDynamicallyQuantizableLinear(in_features=512, out_features=512, bias=True)\n",
      "        )\n",
      "        (conv1): Conv1d(512, 512, kernel_size=(1,), stride=(1,))\n",
      "        (conv2): Conv1d(512, 512, kernel_size=(1,), stride=(1,))\n",
      "        (linear1): Linear(in_features=512, out_features=512, bias=True)\n",
      "        (dropout): Dropout(p=0.1, inplace=False)\n",
      "        (linear2): Linear(in_features=512, out_features=512, bias=True)\n",
      "        (norm1): LayerNorm((512,), eps=1e-05, elementwise_affine=True)\n",
      "        (norm2): LayerNorm((512,), eps=1e-05, elementwise_affine=True)\n",
      "        (dropout1): Dropout(p=0.1, inplace=False)\n",
      "        (dropout2): Dropout(p=0.1, inplace=False)\n",
      "        (activation): GELU(approximate='none')\n",
      "      )\n",
      "    )\n",
      "  )\n",
      "  (act): GELU(approximate='none')\n",
      "  (dropout): Dropout(p=0.1, inplace=False)\n",
      "  (dropout1): Dropout(p=0.1, inplace=False)\n",
      "  (output_layer): Linear(in_features=512, out_features=64, bias=False)\n",
      ")\n",
      "epoch  1, training loss: 1.218458, time: 0.2s\n",
      "epoch 10, training loss: 0.238880, time: 0.1s\n",
      "Start Inference on the training data...\n"
     ]
    },
    {
     "name": "stderr",
     "output_type": "stream",
     "text": [
      "testing: 100%|██████████| 75/75 [00:00<00:00, 1910.01it/s]"
     ]
    },
    {
     "name": "stdout",
     "output_type": "stream",
     "text": [
      "torch.Size([64, 1, 400])\n",
      "torch.Size([64, 1, 400])\n",
      "torch.Size([64, 1, 400])\n",
      "torch.Size([64, 1, 400])\n",
      "torch.Size([64, 1, 400])\n",
      "torch.Size([64, 1, 400])\n",
      "torch.Size([64, 1, 400])\n",
      "torch.Size([64, 1, 400])\n",
      "torch.Size([64, 1, 400])\n",
      "torch.Size([64, 1, 400])\n",
      "torch.Size([64, 1, 400])\n",
      "torch.Size([64, 1, 400])\n",
      "torch.Size([64, 1, 400])\n",
      "torch.Size([64, 1, 400])\n",
      "torch.Size([64, 1, 400])\n",
      "torch.Size([64, 1, 400])\n",
      "torch.Size([64, 1, 400])\n",
      "torch.Size([64, 1, 400])\n",
      "torch.Size([64, 1, 400])\n",
      "torch.Size([64, 1, 400])\n",
      "torch.Size([64, 1, 400])\n",
      "torch.Size([64, 1, 400])\n",
      "torch.Size([64, 1, 400])\n",
      "torch.Size([64, 1, 400])\n",
      "torch.Size([64, 1, 400])\n",
      "torch.Size([64, 1, 400])\n",
      "torch.Size([64, 1, 400])\n",
      "torch.Size([64, 1, 400])\n",
      "torch.Size([64, 1, 400])\n",
      "torch.Size([64, 1, 400])\n",
      "torch.Size([64, 1, 400])\n",
      "torch.Size([64, 1, 400])\n",
      "torch.Size([64, 1, 400])\n",
      "torch.Size([64, 1, 400])\n",
      "torch.Size([64, 1, 400])\n",
      "torch.Size([64, 1, 400])\n",
      "torch.Size([64, 1, 400])\n",
      "torch.Size([64, 1, 400])\n",
      "torch.Size([64, 1, 400])\n",
      "torch.Size([64, 1, 400])\n",
      "torch.Size([64, 1, 400])\n",
      "torch.Size([64, 1, 400])\n",
      "torch.Size([64, 1, 400])\n",
      "torch.Size([64, 1, 400])\n",
      "torch.Size([64, 1, 400])\n",
      "torch.Size([64, 1, 400])\n",
      "torch.Size([64, 1, 400])\n",
      "torch.Size([64, 1, 400])\n",
      "torch.Size([64, 1, 400])\n",
      "torch.Size([64, 1, 400])\n",
      "torch.Size([64, 1, 400])\n",
      "torch.Size([64, 1, 400])\n",
      "torch.Size([64, 1, 400])\n",
      "torch.Size([64, 1, 400])\n",
      "torch.Size([64, 1, 400])\n",
      "torch.Size([64, 1, 400])\n",
      "torch.Size([64, 1, 400])\n",
      "torch.Size([64, 1, 400])\n",
      "torch.Size([64, 1, 400])\n",
      "torch.Size([64, 1, 400])\n",
      "torch.Size([64, 1, 400])\n",
      "torch.Size([64, 1, 400])\n",
      "torch.Size([64, 1, 400])\n",
      "torch.Size([64, 1, 400])\n",
      "torch.Size([64, 1, 400])\n",
      "torch.Size([64, 1, 400])\n",
      "torch.Size([64, 1, 400])\n",
      "torch.Size([64, 1, 400])\n",
      "torch.Size([64, 1, 400])\n",
      "torch.Size([64, 1, 400])\n",
      "torch.Size([64, 1, 400])\n",
      "torch.Size([64, 1, 400])\n",
      "torch.Size([64, 1, 400])\n",
      "torch.Size([64, 1, 400])\n",
      "torch.Size([34, 1, 400])\n"
     ]
    },
    {
     "name": "stderr",
     "output_type": "stream",
     "text": [
      "\n"
     ]
    },
    {
     "name": "stdout",
     "output_type": "stream",
     "text": [
      "4770 8820\n",
      "Start Training...\n",
      "ensemble size: 1\n",
      "TSTransformerEncoder(\n",
      "  (project_inp): TokenEmbedding(\n",
      "    (tokenConv): Conv1d(8820, 512, kernel_size=(3,), stride=(1,), padding=(1,), bias=False, padding_mode=circular)\n",
      "  )\n",
      "  (pos_enc): FixedPositionalEncoding()\n",
      "  (transformer_encoder): TransformerEncoder(\n",
      "    (layers): ModuleList(\n",
      "      (0): TransformerEncoderLayer(\n",
      "        (self_attn): MultiheadAttention(\n",
      "          (out_proj): NonDynamicallyQuantizableLinear(in_features=512, out_features=512, bias=True)\n",
      "        )\n",
      "        (conv1): Conv1d(512, 512, kernel_size=(1,), stride=(1,))\n",
      "        (conv2): Conv1d(512, 512, kernel_size=(1,), stride=(1,))\n",
      "        (linear1): Linear(in_features=512, out_features=512, bias=True)\n",
      "        (dropout): Dropout(p=0.1, inplace=False)\n",
      "        (linear2): Linear(in_features=512, out_features=512, bias=True)\n",
      "        (norm1): LayerNorm((512,), eps=1e-05, elementwise_affine=True)\n",
      "        (norm2): LayerNorm((512,), eps=1e-05, elementwise_affine=True)\n",
      "        (dropout1): Dropout(p=0.1, inplace=False)\n",
      "        (dropout2): Dropout(p=0.1, inplace=False)\n",
      "        (activation): GELU(approximate='none')\n",
      "      )\n",
      "    )\n",
      "  )\n",
      "  (act): GELU(approximate='none')\n",
      "  (dropout): Dropout(p=0.1, inplace=False)\n",
      "  (dropout1): Dropout(p=0.1, inplace=False)\n",
      "  (output_layer): Linear(in_features=512, out_features=64, bias=False)\n",
      ")\n",
      "epoch  1, training loss: 1.371223, time: 0.6s\n",
      "epoch 10, training loss: 0.373027, time: 0.5s\n",
      "Start Inference on the training data...\n"
     ]
    },
    {
     "name": "stderr",
     "output_type": "stream",
     "text": [
      "testing:   0%|          | 0/75 [00:00<?, ?it/s]"
     ]
    },
    {
     "name": "stdout",
     "output_type": "stream",
     "text": [
      "torch.Size([64, 1, 8820])\n",
      "torch.Size([64, 1, 8820])\n",
      "torch.Size([64, 1, 8820])\n",
      "torch.Size([64, 1, 8820])\n",
      "torch.Size([64, 1, 8820])\n",
      "torch.Size([64, 1, 8820])\n",
      "torch.Size([64, 1, 8820])\n",
      "torch.Size([64, 1, 8820])\n",
      "torch.Size([64, 1, 8820])\n",
      "torch.Size([64, 1, 8820])\n"
     ]
    },
    {
     "name": "stderr",
     "output_type": "stream",
     "text": [
      "testing: 100%|██████████| 75/75 [00:00<00:00, 400.36it/s]\n"
     ]
    },
    {
     "name": "stdout",
     "output_type": "stream",
     "text": [
      "torch.Size([64, 1, 8820])\n",
      "torch.Size([64, 1, 8820])\n",
      "torch.Size([64, 1, 8820])\n",
      "torch.Size([64, 1, 8820])\n",
      "torch.Size([64, 1, 8820])\n",
      "torch.Size([64, 1, 8820])\n",
      "torch.Size([64, 1, 8820])\n",
      "torch.Size([64, 1, 8820])\n",
      "torch.Size([64, 1, 8820])\n",
      "torch.Size([64, 1, 8820])\n",
      "torch.Size([64, 1, 8820])\n",
      "torch.Size([64, 1, 8820])\n",
      "torch.Size([64, 1, 8820])\n",
      "torch.Size([64, 1, 8820])\n",
      "torch.Size([64, 1, 8820])\n",
      "torch.Size([64, 1, 8820])\n",
      "torch.Size([64, 1, 8820])\n",
      "torch.Size([64, 1, 8820])\n",
      "torch.Size([64, 1, 8820])\n",
      "torch.Size([64, 1, 8820])\n",
      "torch.Size([64, 1, 8820])\n",
      "torch.Size([64, 1, 8820])\n",
      "torch.Size([64, 1, 8820])\n",
      "torch.Size([64, 1, 8820])\n",
      "torch.Size([64, 1, 8820])\n",
      "torch.Size([64, 1, 8820])\n",
      "torch.Size([64, 1, 8820])\n",
      "torch.Size([64, 1, 8820])\n",
      "torch.Size([64, 1, 8820])\n",
      "torch.Size([64, 1, 8820])\n",
      "torch.Size([64, 1, 8820])\n",
      "torch.Size([64, 1, 8820])\n",
      "torch.Size([64, 1, 8820])\n",
      "torch.Size([64, 1, 8820])\n",
      "torch.Size([64, 1, 8820])\n",
      "torch.Size([64, 1, 8820])\n",
      "torch.Size([64, 1, 8820])\n",
      "torch.Size([64, 1, 8820])\n",
      "torch.Size([64, 1, 8820])\n",
      "torch.Size([64, 1, 8820])\n",
      "torch.Size([64, 1, 8820])\n",
      "torch.Size([64, 1, 8820])\n",
      "torch.Size([64, 1, 8820])\n",
      "torch.Size([64, 1, 8820])\n",
      "torch.Size([64, 1, 8820])\n",
      "torch.Size([64, 1, 8820])\n",
      "torch.Size([64, 1, 8820])\n",
      "torch.Size([64, 1, 8820])\n",
      "torch.Size([64, 1, 8820])\n",
      "torch.Size([64, 1, 8820])\n",
      "torch.Size([64, 1, 8820])\n",
      "torch.Size([64, 1, 8820])\n",
      "torch.Size([64, 1, 8820])\n",
      "torch.Size([64, 1, 8820])\n",
      "torch.Size([64, 1, 8820])\n",
      "torch.Size([64, 1, 8820])\n",
      "torch.Size([64, 1, 8820])\n",
      "torch.Size([64, 1, 8820])\n",
      "torch.Size([64, 1, 8820])\n",
      "torch.Size([64, 1, 8820])\n",
      "torch.Size([64, 1, 8820])\n",
      "torch.Size([64, 1, 8820])\n",
      "torch.Size([64, 1, 8820])\n",
      "torch.Size([64, 1, 8820])\n",
      "torch.Size([34, 1, 8820])\n",
      "4770 9220\n",
      "Start Training...\n",
      "ensemble size: 1\n",
      "TSTransformerEncoder(\n",
      "  (project_inp): TokenEmbedding(\n",
      "    (tokenConv): Conv1d(9220, 512, kernel_size=(3,), stride=(1,), padding=(1,), bias=False, padding_mode=circular)\n",
      "  )\n",
      "  (pos_enc): FixedPositionalEncoding()\n",
      "  (transformer_encoder): TransformerEncoder(\n",
      "    (layers): ModuleList(\n",
      "      (0): TransformerEncoderLayer(\n",
      "        (self_attn): MultiheadAttention(\n",
      "          (out_proj): NonDynamicallyQuantizableLinear(in_features=512, out_features=512, bias=True)\n",
      "        )\n",
      "        (conv1): Conv1d(512, 512, kernel_size=(1,), stride=(1,))\n",
      "        (conv2): Conv1d(512, 512, kernel_size=(1,), stride=(1,))\n",
      "        (linear1): Linear(in_features=512, out_features=512, bias=True)\n",
      "        (dropout): Dropout(p=0.1, inplace=False)\n",
      "        (linear2): Linear(in_features=512, out_features=512, bias=True)\n",
      "        (norm1): LayerNorm((512,), eps=1e-05, elementwise_affine=True)\n",
      "        (norm2): LayerNorm((512,), eps=1e-05, elementwise_affine=True)\n",
      "        (dropout1): Dropout(p=0.1, inplace=False)\n",
      "        (dropout2): Dropout(p=0.1, inplace=False)\n",
      "        (activation): GELU(approximate='none')\n",
      "      )\n",
      "    )\n",
      "  )\n",
      "  (act): GELU(approximate='none')\n",
      "  (dropout): Dropout(p=0.1, inplace=False)\n",
      "  (dropout1): Dropout(p=0.1, inplace=False)\n",
      "  (output_layer): Linear(in_features=512, out_features=64, bias=False)\n",
      ")\n",
      "epoch  1, training loss: 1.112948, time: 0.6s\n",
      "epoch 10, training loss: 0.183271, time: 0.6s\n",
      "Start Inference on the training data...\n"
     ]
    },
    {
     "name": "stderr",
     "output_type": "stream",
     "text": [
      "testing:   0%|          | 0/75 [00:00<?, ?it/s]"
     ]
    },
    {
     "name": "stdout",
     "output_type": "stream",
     "text": [
      "torch.Size([64, 1, 9220])\n",
      "torch.Size([64, 1, 9220])\n",
      "torch.Size([64, 1, 9220])\n",
      "torch.Size([64, 1, 9220])\n",
      "torch.Size([64, 1, 9220])\n",
      "torch.Size([64, 1, 9220])\n",
      "torch.Size([64, 1, 9220])\n",
      "torch.Size([64, 1, 9220])\n",
      "torch.Size([64, 1, 9220])\n",
      "torch.Size([64, 1, 9220])\n",
      "torch.Size([64, 1, 9220])\n"
     ]
    },
    {
     "name": "stderr",
     "output_type": "stream",
     "text": [
      "testing: 100%|██████████| 75/75 [00:00<00:00, 383.76it/s]"
     ]
    },
    {
     "name": "stdout",
     "output_type": "stream",
     "text": [
      "torch.Size([64, 1, 9220])\n",
      "torch.Size([64, 1, 9220])\n",
      "torch.Size([64, 1, 9220])\n",
      "torch.Size([64, 1, 9220])\n",
      "torch.Size([64, 1, 9220])\n",
      "torch.Size([64, 1, 9220])\n",
      "torch.Size([64, 1, 9220])\n",
      "torch.Size([64, 1, 9220])\n",
      "torch.Size([64, 1, 9220])\n",
      "torch.Size([64, 1, 9220])\n",
      "torch.Size([64, 1, 9220])\n",
      "torch.Size([64, 1, 9220])\n",
      "torch.Size([64, 1, 9220])\n",
      "torch.Size([64, 1, 9220])\n",
      "torch.Size([64, 1, 9220])\n",
      "torch.Size([64, 1, 9220])\n",
      "torch.Size([64, 1, 9220])\n",
      "torch.Size([64, 1, 9220])\n",
      "torch.Size([64, 1, 9220])\n",
      "torch.Size([64, 1, 9220])\n",
      "torch.Size([64, 1, 9220])\n",
      "torch.Size([64, 1, 9220])\n",
      "torch.Size([64, 1, 9220])\n",
      "torch.Size([64, 1, 9220])\n",
      "torch.Size([64, 1, 9220])\n",
      "torch.Size([64, 1, 9220])\n",
      "torch.Size([64, 1, 9220])\n",
      "torch.Size([64, 1, 9220])\n",
      "torch.Size([64, 1, 9220])\n",
      "torch.Size([64, 1, 9220])\n",
      "torch.Size([64, 1, 9220])\n",
      "torch.Size([64, 1, 9220])\n",
      "torch.Size([64, 1, 9220])\n",
      "torch.Size([64, 1, 9220])\n",
      "torch.Size([64, 1, 9220])\n",
      "torch.Size([64, 1, 9220])\n",
      "torch.Size([64, 1, 9220])\n",
      "torch.Size([64, 1, 9220])\n",
      "torch.Size([64, 1, 9220])\n",
      "torch.Size([64, 1, 9220])\n",
      "torch.Size([64, 1, 9220])\n",
      "torch.Size([64, 1, 9220])\n",
      "torch.Size([64, 1, 9220])\n",
      "torch.Size([64, 1, 9220])\n",
      "torch.Size([64, 1, 9220])\n",
      "torch.Size([64, 1, 9220])\n",
      "torch.Size([64, 1, 9220])\n",
      "torch.Size([64, 1, 9220])\n",
      "torch.Size([64, 1, 9220])\n",
      "torch.Size([64, 1, 9220])\n",
      "torch.Size([64, 1, 9220])\n",
      "torch.Size([64, 1, 9220])\n",
      "torch.Size([64, 1, 9220])\n",
      "torch.Size([64, 1, 9220])\n",
      "torch.Size([64, 1, 9220])\n",
      "torch.Size([64, 1, 9220])\n",
      "torch.Size([64, 1, 9220])\n",
      "torch.Size([64, 1, 9220])\n",
      "torch.Size([64, 1, 9220])\n",
      "torch.Size([64, 1, 9220])\n",
      "torch.Size([64, 1, 9220])\n",
      "torch.Size([64, 1, 9220])\n",
      "torch.Size([64, 1, 9220])\n",
      "torch.Size([34, 1, 9220])\n"
     ]
    },
    {
     "name": "stderr",
     "output_type": "stream",
     "text": [
      "\n"
     ]
    },
    {
     "data": {
      "text/plain": [
       "<deepod.models.time_series.dsvdd.DeepSVDDTS at 0x7f2fe6a75040>"
      ]
     },
     "execution_count": 4,
     "metadata": {},
     "output_type": "execute_result"
    }
   ],
   "source": [
    "clf_imu = DeepSVDDTS(epochs=10,seq_len=1,stride=1)\n",
    "clf_imu.fit(train_imu)\n",
    "clf_audio = DeepSVDDTS(epochs=10,seq_len=1,stride=1)\n",
    "clf_audio.fit(np.mean(train_audio,axis=-1))\n",
    "clf_all = DeepSVDDTS(epochs=10,seq_len=1,stride=1)\n",
    "clf_all.fit(train_combine)"
   ]
  },
  {
   "cell_type": "code",
   "execution_count": 5,
   "metadata": {},
   "outputs": [
    {
     "name": "stderr",
     "output_type": "stream",
     "text": [
      "testing: 100%|██████████| 32/32 [00:00<00:00, 263.61it/s]\n"
     ]
    },
    {
     "name": "stdout",
     "output_type": "stream",
     "text": [
      "torch.Size([64, 1, 8820])\n",
      "torch.Size([64, 1, 8820])\n",
      "torch.Size([64, 1, 8820])\n",
      "torch.Size([64, 1, 8820])\n",
      "torch.Size([64, 1, 8820])\n",
      "torch.Size([64, 1, 8820])\n",
      "torch.Size([64, 1, 8820])\n",
      "torch.Size([64, 1, 8820])\n",
      "torch.Size([64, 1, 8820])\n",
      "torch.Size([64, 1, 8820])\n",
      "torch.Size([64, 1, 8820])\n",
      "torch.Size([64, 1, 8820])\n",
      "torch.Size([64, 1, 8820])\n",
      "torch.Size([64, 1, 8820])\n",
      "torch.Size([64, 1, 8820])\n",
      "torch.Size([64, 1, 8820])\n",
      "torch.Size([64, 1, 8820])\n",
      "torch.Size([64, 1, 8820])\n",
      "torch.Size([64, 1, 8820])\n",
      "torch.Size([64, 1, 8820])\n",
      "torch.Size([64, 1, 8820])\n",
      "torch.Size([64, 1, 8820])\n",
      "torch.Size([64, 1, 8820])\n",
      "torch.Size([64, 1, 8820])\n",
      "torch.Size([64, 1, 8820])\n",
      "torch.Size([64, 1, 8820])\n",
      "torch.Size([64, 1, 8820])\n",
      "torch.Size([64, 1, 8820])\n",
      "torch.Size([64, 1, 8820])\n",
      "torch.Size([64, 1, 8820])\n",
      "torch.Size([64, 1, 8820])\n",
      "torch.Size([24, 1, 8820])\n"
     ]
    },
    {
     "name": "stderr",
     "output_type": "stream",
     "text": [
      "testing: 100%|██████████| 32/32 [00:00<00:00, 1379.18it/s]\n"
     ]
    },
    {
     "name": "stdout",
     "output_type": "stream",
     "text": [
      "torch.Size([64, 1, 400])\n",
      "torch.Size([64, 1, 400])\n",
      "torch.Size([64, 1, 400])\n",
      "torch.Size([64, 1, 400])\n",
      "torch.Size([64, 1, 400])\n",
      "torch.Size([64, 1, 400])\n",
      "torch.Size([64, 1, 400])\n",
      "torch.Size([64, 1, 400])\n",
      "torch.Size([64, 1, 400])\n",
      "torch.Size([64, 1, 400])\n",
      "torch.Size([64, 1, 400])\n",
      "torch.Size([64, 1, 400])\n",
      "torch.Size([64, 1, 400])\n",
      "torch.Size([64, 1, 400])\n",
      "torch.Size([64, 1, 400])\n",
      "torch.Size([64, 1, 400])\n",
      "torch.Size([64, 1, 400])\n",
      "torch.Size([64, 1, 400])\n",
      "torch.Size([64, 1, 400])\n",
      "torch.Size([64, 1, 400])\n",
      "torch.Size([64, 1, 400])\n",
      "torch.Size([64, 1, 400])\n",
      "torch.Size([64, 1, 400])\n",
      "torch.Size([64, 1, 400])\n",
      "torch.Size([64, 1, 400])\n",
      "torch.Size([64, 1, 400])\n",
      "torch.Size([64, 1, 400])\n",
      "torch.Size([64, 1, 400])\n",
      "torch.Size([64, 1, 400])\n",
      "torch.Size([64, 1, 400])\n",
      "torch.Size([64, 1, 400])\n",
      "torch.Size([24, 1, 400])\n"
     ]
    },
    {
     "name": "stderr",
     "output_type": "stream",
     "text": [
      "testing:   0%|          | 0/32 [00:00<?, ?it/s]"
     ]
    },
    {
     "name": "stdout",
     "output_type": "stream",
     "text": [
      "torch.Size([64, 1, 9220])\n",
      "torch.Size([64, 1, 9220])\n",
      "torch.Size([64, 1, 9220])\n",
      "torch.Size([64, 1, 9220])\n",
      "torch.Size([64, 1, 9220])\n"
     ]
    },
    {
     "name": "stderr",
     "output_type": "stream",
     "text": [
      "testing: 100%|██████████| 32/32 [00:00<00:00, 251.96it/s]"
     ]
    },
    {
     "name": "stdout",
     "output_type": "stream",
     "text": [
      "torch.Size([64, 1, 9220])\n",
      "torch.Size([64, 1, 9220])\n",
      "torch.Size([64, 1, 9220])\n",
      "torch.Size([64, 1, 9220])\n",
      "torch.Size([64, 1, 9220])\n",
      "torch.Size([64, 1, 9220])\n",
      "torch.Size([64, 1, 9220])\n",
      "torch.Size([64, 1, 9220])\n",
      "torch.Size([64, 1, 9220])\n",
      "torch.Size([64, 1, 9220])\n",
      "torch.Size([64, 1, 9220])\n",
      "torch.Size([64, 1, 9220])\n",
      "torch.Size([64, 1, 9220])\n",
      "torch.Size([64, 1, 9220])\n",
      "torch.Size([64, 1, 9220])\n",
      "torch.Size([64, 1, 9220])\n",
      "torch.Size([64, 1, 9220])\n",
      "torch.Size([64, 1, 9220])\n",
      "torch.Size([64, 1, 9220])\n",
      "torch.Size([64, 1, 9220])\n",
      "torch.Size([64, 1, 9220])\n",
      "torch.Size([64, 1, 9220])\n",
      "torch.Size([64, 1, 9220])\n",
      "torch.Size([64, 1, 9220])\n",
      "torch.Size([64, 1, 9220])\n",
      "torch.Size([64, 1, 9220])\n",
      "torch.Size([24, 1, 9220])\n"
     ]
    },
    {
     "name": "stderr",
     "output_type": "stream",
     "text": [
      "\n"
     ]
    }
   ],
   "source": [
    "scores_audio      = clf_audio.decision_function(np.mean(test_audio_all,axis=-1))\n",
    "scores_imu        = clf_imu.decision_function(test_imu_all)\n",
    "scores_all        = clf_all.decision_function(test_combine)"
   ]
  },
  {
   "cell_type": "code",
   "execution_count": null,
   "metadata": {},
   "outputs": [],
   "source": []
  },
  {
   "cell_type": "code",
   "execution_count": 6,
   "metadata": {},
   "outputs": [
    {
     "name": "stdout",
     "output_type": "stream",
     "text": [
      "(0.897717927631579, 0.867439385246712, 0.8038535226704222, 0.8191349934469201, 0.7891414141414141)\n",
      "(0.8987282363104732, 0.8859793311679345, 0.7939717637382158, 0.866965620328849, 0.7323232323232324)\n",
      "(0.919368437666135, 0.903703918023419, 0.8325799916942128, 0.8461538461538461, 0.8194444444444444)\n"
     ]
    }
   ],
   "source": [
    "#auc, mean precision, F1, percision, recall\n",
    "eval_metrics_audio = ts_metrics(labels_all, scores_audio)\n",
    "eval_metrics_imu = ts_metrics(labels_all, scores_imu+scores_audio)\n",
    "result_audio = eval_metrics_audio\n",
    "result_imu = eval_metrics_imu\n",
    "eval_metrics_all = ts_metrics(labels_all, scores_all)\n",
    "result_all = eval_metrics_all\n",
    "\n",
    "print(result_audio[:-2])\n",
    "print(result_imu[:-2])\n",
    "print(result_all[:-2])\n",
    "\n",
    "# np.save(\"dsvdd_P\",result_audio[-2])\n",
    "# np.save(\"dsvdd_r\",result_audio[-1])"
   ]
  },
  {
   "cell_type": "code",
   "execution_count": null,
   "metadata": {},
   "outputs": [],
   "source": []
  },
  {
   "cell_type": "code",
   "execution_count": null,
   "metadata": {},
   "outputs": [],
   "source": []
  }
 ],
 "metadata": {
  "kernelspec": {
   "display_name": "Python 3 (ipykernel)",
   "language": "python",
   "name": "python3"
  },
  "language_info": {
   "codemirror_mode": {
    "name": "ipython",
    "version": 3
   },
   "file_extension": ".py",
   "mimetype": "text/x-python",
   "name": "python",
   "nbconvert_exporter": "python",
   "pygments_lexer": "ipython3",
   "version": "3.8.19"
  }
 },
 "nbformat": 4,
 "nbformat_minor": 4
}
