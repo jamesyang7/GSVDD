{
 "cells": [
  {
   "cell_type": "code",
   "execution_count": 1,
   "metadata": {},
   "outputs": [],
   "source": [
    "import sys\n",
    "import numpy as np\n",
    "sys.path.append('../')\n",
    "from deepod.models.time_series import DeepIsolationForestTS as model\n",
    "from load_data import load_data\n",
    "from deepod.metrics import ts_metrics\n",
    "from deepod.metrics import point_adjustment "
   ]
  },
  {
   "cell_type": "code",
   "execution_count": 2,
   "metadata": {},
   "outputs": [],
   "source": [
    "train_imu,train_audio,train_spec,val_imu,val_audio,val_spec,val_imu_normal,val_audio_normal,val_spec_normal,total_list = load_data()\n",
    "\n",
    "train_combine = np.concatenate([np.mean(train_audio,axis=-1),train_imu],axis=1)\n",
    "\n",
    "test_audio_all = np.concatenate([val_audio_normal,val_audio],axis=0)\n",
    "test_imu_all   = np.concatenate([val_imu_normal,val_imu],axis=0)\n",
    "test_combine = np.concatenate([np.mean(test_audio_all,axis=-1),test_imu_all],axis=1)\n",
    "\n",
    "labels_all = np.concatenate([np.zeros(val_audio_normal.shape[0]),np.ones(val_audio.shape[0])])"
   ]
  },
  {
   "cell_type": "code",
   "execution_count": null,
   "metadata": {},
   "outputs": [],
   "source": []
  },
  {
   "cell_type": "code",
   "execution_count": 4,
   "metadata": {},
   "outputs": [
    {
     "name": "stdout",
     "output_type": "stream",
     "text": [
      "Start Training...\n"
     ]
    },
    {
     "name": "stderr",
     "output_type": "stream",
     "text": [
      "  0%|          | 0/50 [00:00<?, ?it/s]"
     ]
    },
    {
     "name": "stderr",
     "output_type": "stream",
     "text": [
      "100%|██████████| 50/50 [00:08<00:00,  5.81it/s]\n"
     ]
    },
    {
     "name": "stdout",
     "output_type": "stream",
     "text": [
      "Start Inference on the training data...\n",
      "Start Inference...\n"
     ]
    },
    {
     "name": "stderr",
     "output_type": "stream",
     "text": [
      "100%|██████████| 50/50 [00:10<00:00,  4.91it/s]\n"
     ]
    },
    {
     "name": "stdout",
     "output_type": "stream",
     "text": [
      "Start Training...\n"
     ]
    },
    {
     "name": "stderr",
     "output_type": "stream",
     "text": [
      "100%|██████████| 50/50 [00:18<00:00,  2.70it/s]\n"
     ]
    },
    {
     "name": "stdout",
     "output_type": "stream",
     "text": [
      "Start Inference on the training data...\n",
      "Start Inference...\n"
     ]
    },
    {
     "name": "stderr",
     "output_type": "stream",
     "text": [
      "100%|██████████| 50/50 [00:19<00:00,  2.55it/s]\n"
     ]
    },
    {
     "name": "stdout",
     "output_type": "stream",
     "text": [
      "Start Training...\n"
     ]
    },
    {
     "name": "stderr",
     "output_type": "stream",
     "text": [
      "100%|██████████| 50/50 [00:19<00:00,  2.60it/s]\n"
     ]
    },
    {
     "name": "stdout",
     "output_type": "stream",
     "text": [
      "Start Inference on the training data...\n",
      "Start Inference...\n"
     ]
    },
    {
     "name": "stderr",
     "output_type": "stream",
     "text": [
      "100%|██████████| 50/50 [00:20<00:00,  2.42it/s]\n"
     ]
    },
    {
     "data": {
      "text/plain": [
       "<deepod.models.time_series.dif.DeepIsolationForestTS at 0x7f5a996882e0>"
      ]
     },
     "execution_count": 4,
     "metadata": {},
     "output_type": "execute_result"
    }
   ],
   "source": [
    "clf_imu = model(epochs=50,batch_size=8,seq_len=1,stride=1)\n",
    "clf_imu.fit(train_imu)\n",
    "clf_audio = model(epochs=50,batch_size=8,seq_len=1,stride=1)\n",
    "clf_audio.fit(np.mean(train_audio,axis=-1))\n",
    "clf_all = model(epochs=50,batch_size=8,seq_len=1,stride=1)\n",
    "clf_all.fit(train_combine)"
   ]
  },
  {
   "cell_type": "code",
   "execution_count": 5,
   "metadata": {},
   "outputs": [
    {
     "name": "stdout",
     "output_type": "stream",
     "text": [
      "Start Inference...\n"
     ]
    },
    {
     "name": "stderr",
     "output_type": "stream",
     "text": [
      "100%|██████████| 50/50 [00:07<00:00,  6.34it/s]\n"
     ]
    },
    {
     "name": "stdout",
     "output_type": "stream",
     "text": [
      "Start Inference...\n"
     ]
    },
    {
     "name": "stderr",
     "output_type": "stream",
     "text": [
      "100%|██████████| 50/50 [00:04<00:00, 11.54it/s]\n"
     ]
    },
    {
     "name": "stdout",
     "output_type": "stream",
     "text": [
      "Start Inference...\n"
     ]
    },
    {
     "name": "stderr",
     "output_type": "stream",
     "text": [
      "100%|██████████| 50/50 [00:08<00:00,  6.08it/s]\n"
     ]
    }
   ],
   "source": [
    "scores_audio      = clf_audio.decision_function(np.mean(test_audio_all,axis=-1))\n",
    "scores_imu        = clf_imu.decision_function(test_imu_all)\n",
    "scores_all        = clf_all.decision_function(test_combine)"
   ]
  },
  {
   "cell_type": "code",
   "execution_count": 6,
   "metadata": {},
   "outputs": [
    {
     "name": "stdout",
     "output_type": "stream",
     "text": [
      "(0.9466176983652311, 0.9233719219354152, 0.8804433197711293, 0.8685503685503686, 0.8926767676767676)\n",
      "(0.6577296401515151, 0.5970790641480203, 0.575785714541593, 0.5067178502879078, 0.6666666666666666)\n",
      "(0.5353068098750664, 0.4531145667284672, 0.565710228763788, 0.3944223107569721, 1.0)\n"
     ]
    }
   ],
   "source": [
    "#auc, mean precision, F1, percision, recall\n",
    "eval_metrics_audio = ts_metrics(labels_all, scores_audio)\n",
    "eval_metrics_imu = ts_metrics(labels_all, scores_imu+scores_audio)\n",
    "result_audio = eval_metrics_audio\n",
    "result_imu = eval_metrics_imu\n",
    "eval_metrics_all = ts_metrics(labels_all, scores_all)\n",
    "result_all = eval_metrics_all\n",
    "\n",
    "print(result_audio[:-2])\n",
    "print(result_imu[:-2])\n",
    "print(result_all[:-2])\n",
    "\n",
    "# np.save(\"deepforest_P\",result_audio[-2])\n",
    "# np.save(\"deepforest_r\",result_audio[-1])"
   ]
  },
  {
   "cell_type": "code",
   "execution_count": 7,
   "metadata": {},
   "outputs": [
    {
     "name": "stdout",
     "output_type": "stream",
     "text": [
      "1225.9994172460322\n"
     ]
    }
   ],
   "source": [
    "from sklearn import metrics\n",
    "precision, recall, thresholds= metrics.precision_recall_curve(labels_all, (scores_audio))\n",
    "epsilon = 1e-10\n",
    "\n",
    "f1_scores = 2 * (precision * recall) / (precision + recall + epsilon)\n",
    "best_index = np.argmax(f1_scores)\n",
    "best_threshold = thresholds[best_index]\n",
    "print(best_threshold)\n",
    "indoor_group = []\n",
    "outdoor_group = []\n",
    "mach_group = []\n",
    "coli_group = []\n",
    "for idx, filepath in enumerate(total_list):\n",
    "    parts = filepath.split('/')\n",
    "    sequence = parts[-2]  # e.g., 'iseq2', 'iseq5', 'seq16'\n",
    "    if sequence=='seq16':\n",
    "        file_number = int(parts[-1].split('.')[0])  # Extract file number from filename (e.g., '0' from '0.npy')\n",
    "\n",
    "    # Check if the file belongs to the indoor group (iseq2, iseq5, or seq16 with 0-104.npy)\n",
    "    if sequence in ['iseq2', 'iseq5'] or (sequence == 'seq16' and  file_number >= 104):\n",
    "        indoor_group.append(idx)  # Add the index of the file\n",
    "    elif sequence in ['seq15', 'seq10'] or (sequence == 'seq16' and  file_number < 104):\n",
    "        outdoor_group.append(idx)  # Add the index of the file\n",
    "    elif sequence in ['bl', 'br','fl','fr']:\n",
    "        mach_group.append(idx)  # Add the index of the file\n",
    "    else:\n",
    "        coli_group.append(idx)  # Add the index of the file\n",
    "\n",
    "indoor_losses = [scores_audio[idx] for idx in indoor_group]\n",
    "outdoor_losses = [scores_audio[idx] for idx in outdoor_group]\n",
    "mach_losses = [scores_audio[idx] for idx in mach_group]\n",
    "coli_losses = [scores_audio[idx] for idx in coli_group]"
   ]
  },
  {
   "cell_type": "code",
   "execution_count": 9,
   "metadata": {},
   "outputs": [],
   "source": [
    "indoor_group = []\n",
    "outdoor_group = []\n",
    "mach_group = []\n",
    "coli_group = []\n",
    "for idx, filepath in enumerate(total_list):\n",
    "    parts = filepath.split('/')\n",
    "    sequence = parts[-2]  # e.g., 'iseq2', 'iseq5', 'seq16'\n",
    "    if sequence=='seq16':\n",
    "        file_number = int(parts[-1].split('.')[0])  # Extract file number from filename (e.g., '0' from '0.npy')\n",
    "\n",
    "    # Check if the file belongs to the indoor group (iseq2, iseq5, or seq16 with 0-104.npy)\n",
    "    if sequence in ['iseq2', 'iseq5'] or (sequence == 'seq16' and  file_number >= 104):\n",
    "        indoor_group.append(idx)  # Add the index of the file\n",
    "    elif sequence in ['seq15', 'seq10'] or (sequence == 'seq16' and  file_number < 104):\n",
    "        outdoor_group.append(idx)  # Add the index of the file\n",
    "    elif sequence in ['bl', 'br','fl','fr']:\n",
    "        mach_group.append(idx)  # Add the index of the file\n",
    "    else:\n",
    "        coli_group.append(idx)  # Add the index of the file\n",
    "\n",
    "indoor_losses = [scores_audio[idx] for idx in indoor_group]\n",
    "outdoor_losses = [scores_audio[idx] for idx in outdoor_group]\n",
    "mach_losses = [scores_audio[idx] for idx in mach_group]\n",
    "coli_losses = [scores_audio[idx] for idx in coli_group]"
   ]
  },
  {
   "cell_type": "code",
   "execution_count": 10,
   "metadata": {},
   "outputs": [
    {
     "name": "stdout",
     "output_type": "stream",
     "text": [
      "Overall Accuracy:\n",
      "  Accuracy: 0.9120\n",
      "\n",
      "Indoor Group Accuracy:\n",
      "  Accuracy: 0.8894\n",
      "\n",
      "Outdoor Group Accuracy:\n",
      "  Accuracy: 0.9373\n"
     ]
    }
   ],
   "source": [
    "# Given threshold\n",
    "threshold = best_threshold\n",
    "# Example threshold, replace with actual value\n",
    "\n",
    "# True labels for indoor and outdoor groups\n",
    "true_labels_indoor = [0] * len(indoor_losses)  # All indoor samples are normal\n",
    "true_labels_outdoor = [0] * len(outdoor_losses)  # All outdoor samples are anomalies\n",
    "\n",
    "# Combine losses and true labels\n",
    "all_losses = indoor_losses + outdoor_losses\n",
    "all_true_labels = true_labels_indoor + true_labels_outdoor\n",
    "\n",
    "# Calculate predicted labels based on the threshold\n",
    "predicted_labels = [1 if score > threshold else 0 for score in all_losses]\n",
    "\n",
    "# Calculate accuracy\n",
    "correct_predictions = sum(pred == true for pred, true in zip(predicted_labels, all_true_labels))\n",
    "total_samples = len(all_true_labels)\n",
    "accuracy = correct_predictions / total_samples if total_samples > 0 else 0\n",
    "\n",
    "# Output accuracy for both groups\n",
    "print(\"Overall Accuracy:\")\n",
    "print(f\"  Accuracy: {accuracy:.4f}\")\n",
    "\n",
    "# Optional: Calculate accuracy separately for indoor and outdoor groups\n",
    "accuracy_indoor = sum(predicted_labels[i] == true_labels_indoor[i] for i in range(len(indoor_losses))) / len(indoor_losses) if len(indoor_losses) > 0 else 0\n",
    "accuracy_outdoor = sum(predicted_labels[len(indoor_losses) + i] == true_labels_outdoor[i] for i in range(len(outdoor_losses))) / len(outdoor_losses) if len(outdoor_losses) > 0 else 0\n",
    "\n",
    "print(\"\\nIndoor Group Accuracy:\")\n",
    "print(f\"  Accuracy: {accuracy_indoor:.4f}\")\n",
    "\n",
    "print(\"\\nOutdoor Group Accuracy:\")\n",
    "print(f\"  Accuracy: {accuracy_outdoor:.4f}\")\n"
   ]
  },
  {
   "cell_type": "code",
   "execution_count": 11,
   "metadata": {},
   "outputs": [
    {
     "name": "stdout",
     "output_type": "stream",
     "text": [
      "Overall Accuracy:\n",
      "  Accuracy: 0.8914\n",
      "\n",
      "mach Group Accuracy:\n",
      "  Accuracy: 0.9552\n",
      "\n",
      "coli Group Accuracy:\n",
      "  Accuracy: 0.7742\n"
     ]
    }
   ],
   "source": [
    "true_labels_mach = [1] * len(mach_losses)  # All indoor samples are normal\n",
    "true_labels_coli = [1] * len(coli_losses)  # All outdoor samples are anomalies\n",
    "\n",
    "# Combine losses and true labels\n",
    "all_losses = mach_losses + coli_losses\n",
    "all_true_labels = true_labels_mach + true_labels_coli\n",
    "\n",
    "# Calculate predicted labels based on the threshold\n",
    "predicted_labels = [1 if score > threshold else 0 for score in all_losses]\n",
    "\n",
    "# Calculate accuracy\n",
    "correct_predictions = sum(pred == true for pred, true in zip(predicted_labels, all_true_labels))\n",
    "total_samples = len(all_true_labels)\n",
    "accuracy = correct_predictions / total_samples if total_samples > 0 else 0\n",
    "\n",
    "# Output accuracy for both groups\n",
    "print(\"Overall Accuracy:\")\n",
    "print(f\"  Accuracy: {accuracy:.4f}\")\n",
    "\n",
    "# Optional: Calculate accuracy separately for indoor and outdoor groups\n",
    "accuracy_mach = sum(predicted_labels[i] == true_labels_mach[i] for i in range(len(mach_losses))) / len(mach_losses) if len(mach_losses) > 0 else 0\n",
    "accuracy_coli = sum(predicted_labels[len(mach_losses) + i] == true_labels_coli[i] for i in range(len(coli_losses))) / len(coli_losses) if len(outdoor_losses) > 0 else 0\n",
    "\n",
    "print(\"\\nmach Group Accuracy:\")\n",
    "print(f\"  Accuracy: {accuracy_mach:.4f}\")\n",
    "\n",
    "print(\"\\ncoli Group Accuracy:\")\n",
    "print(f\"  Accuracy: {accuracy_coli:.4f}\")"
   ]
  },
  {
   "cell_type": "code",
   "execution_count": null,
   "metadata": {},
   "outputs": [],
   "source": []
  }
 ],
 "metadata": {
  "kernelspec": {
   "display_name": "ai",
   "language": "python",
   "name": "python3"
  },
  "language_info": {
   "codemirror_mode": {
    "name": "ipython",
    "version": 3
   },
   "file_extension": ".py",
   "mimetype": "text/x-python",
   "name": "python",
   "nbconvert_exporter": "python",
   "pygments_lexer": "ipython3",
   "version": "3.8.19"
  }
 },
 "nbformat": 4,
 "nbformat_minor": 2
}
