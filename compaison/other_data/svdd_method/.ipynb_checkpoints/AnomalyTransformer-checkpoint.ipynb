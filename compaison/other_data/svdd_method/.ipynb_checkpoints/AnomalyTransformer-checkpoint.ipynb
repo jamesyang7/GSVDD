{
 "cells": [
  {
   "cell_type": "code",
   "execution_count": 1,
   "metadata": {},
   "outputs": [],
   "source": [
    "import sys\n",
    "import numpy as np\n",
    "sys.path.append('../')\n",
    "from deepod.models.time_series import AnomalyTransformer as model\n",
    "from load_data import load_data\n",
    "from deepod.metrics import ts_metrics\n",
    "from deepod.metrics import point_adjustment "
   ]
  },
  {
   "cell_type": "code",
   "execution_count": 2,
   "metadata": {},
   "outputs": [],
   "source": [
    "train_imu,train_audio,train_spec,val_imu,val_audio,val_spec,val_imu_normal,val_audio_normal,val_spec_normal = load_data()\n",
    "\n",
    "train_combine = np.concatenate([np.mean(train_audio,axis=-1),train_imu],axis=1)\n",
    "\n",
    "test_audio_all = np.concatenate([val_audio_normal,val_audio],axis=0)\n",
    "test_imu_all   = np.concatenate([val_imu_normal,val_imu],axis=0)\n",
    "test_combine = np.concatenate([np.mean(test_audio_all,axis=-1),test_imu_all],axis=1)\n",
    "\n",
    "labels_all = np.concatenate([np.zeros(val_audio_normal.shape[0]),np.ones(val_audio.shape[0])])"
   ]
  },
  {
   "cell_type": "code",
   "execution_count": 3,
   "metadata": {},
   "outputs": [
    {
     "name": "stdout",
     "output_type": "stream",
     "text": [
      "epoch  1, training loss: 0.155567, time: 0.3s\n",
      "epoch  2, training loss: 0.012086, time: 0.2s\n",
      "epoch  3, training loss: 0.008898, time: 0.2s\n",
      "epoch  4, training loss: 0.007850, time: 0.1s\n",
      "epoch  5, training loss: 0.011085, time: 0.1s\n",
      "epoch  6, training loss: 0.009374, time: 0.2s\n",
      "epoch  7, training loss: 0.008541, time: 0.1s\n",
      "epoch  8, training loss: 0.007205, time: 0.1s\n",
      "epoch  9, training loss: 0.007278, time: 0.1s\n",
      "epoch 10, training loss: 0.007106, time: 0.1s\n",
      "epoch 11, training loss: 0.007349, time: 0.1s\n",
      "epoch 12, training loss: 0.010119, time: 0.2s\n",
      "epoch 13, training loss: 0.007200, time: 0.1s\n",
      "epoch 14, training loss: 0.007665, time: 0.2s\n",
      "epoch 15, training loss: 0.007527, time: 0.1s\n",
      "epoch 16, training loss: 0.009170, time: 0.1s\n",
      "epoch 17, training loss: 0.006689, time: 0.1s\n",
      "epoch 18, training loss: 0.010481, time: 0.1s\n",
      "epoch 19, training loss: 0.008082, time: 0.1s\n",
      "epoch 20, training loss: 0.006791, time: 0.2s\n",
      "epoch 21, training loss: 0.007889, time: 0.2s\n",
      "epoch 22, training loss: 0.007483, time: 0.1s\n",
      "epoch 23, training loss: 0.006601, time: 0.1s\n",
      "epoch 24, training loss: 0.008245, time: 0.2s\n",
      "epoch 25, training loss: 0.008955, time: 0.1s\n",
      "epoch 26, training loss: 0.006117, time: 0.1s\n",
      "epoch 27, training loss: 0.008979, time: 0.1s\n",
      "epoch 28, training loss: 0.008962, time: 0.1s\n",
      "epoch 29, training loss: 0.006169, time: 0.2s\n",
      "epoch 30, training loss: 0.007996, time: 0.2s\n",
      "epoch 31, training loss: 0.008387, time: 0.2s\n",
      "epoch 32, training loss: 0.006591, time: 0.1s\n",
      "epoch 33, training loss: 0.007546, time: 0.1s\n",
      "epoch 34, training loss: 0.010659, time: 0.1s\n",
      "epoch 35, training loss: 0.006726, time: 0.1s\n",
      "epoch 36, training loss: 0.006324, time: 0.1s\n",
      "epoch 37, training loss: 0.009501, time: 0.1s\n",
      "epoch 38, training loss: 0.006659, time: 0.1s\n",
      "epoch 39, training loss: 0.008811, time: 0.2s\n",
      "epoch 40, training loss: 0.007123, time: 0.1s\n",
      "epoch 41, training loss: 0.007581, time: 0.1s\n",
      "epoch 42, training loss: 0.005227, time: 0.1s\n",
      "epoch 43, training loss: 0.008881, time: 0.1s\n",
      "epoch 44, training loss: 0.007647, time: 0.1s\n",
      "epoch 45, training loss: 0.008651, time: 0.1s\n",
      "epoch 46, training loss: 0.007511, time: 0.1s\n",
      "epoch 47, training loss: 0.005359, time: 0.1s\n",
      "epoch 48, training loss: 0.007593, time: 0.1s\n",
      "epoch 49, training loss: 0.006243, time: 0.1s\n",
      "epoch 50, training loss: 0.008745, time: 0.1s\n",
      "epoch  1, training loss: 0.092515, time: 0.2s\n",
      "epoch  2, training loss: 0.004022, time: 0.2s\n",
      "epoch  3, training loss: 0.000619, time: 0.2s\n",
      "epoch  4, training loss: 0.000174, time: 0.2s\n",
      "epoch  5, training loss: 0.000132, time: 0.2s\n",
      "epoch  6, training loss: 0.000119, time: 0.2s\n",
      "epoch  7, training loss: 0.000114, time: 0.2s\n",
      "epoch  8, training loss: 0.000127, time: 0.2s\n",
      "epoch  9, training loss: 0.000121, time: 0.2s\n",
      "epoch 10, training loss: 0.000116, time: 0.2s\n",
      "epoch 11, training loss: 0.000097, time: 0.2s\n",
      "epoch 12, training loss: 0.000102, time: 0.2s\n",
      "epoch 13, training loss: 0.000102, time: 0.2s\n",
      "epoch 14, training loss: 0.000103, time: 0.2s\n",
      "epoch 15, training loss: 0.000096, time: 0.2s\n",
      "epoch 16, training loss: 0.000090, time: 0.2s\n",
      "epoch 17, training loss: 0.000115, time: 0.2s\n",
      "epoch 18, training loss: 0.000121, time: 0.2s\n",
      "epoch 19, training loss: 0.000084, time: 0.2s\n",
      "epoch 20, training loss: 0.000105, time: 0.2s\n",
      "epoch 21, training loss: 0.000089, time: 0.2s\n",
      "epoch 22, training loss: 0.000079, time: 0.2s\n",
      "epoch 23, training loss: 0.000082, time: 0.2s\n",
      "epoch 24, training loss: 0.000095, time: 0.2s\n",
      "epoch 25, training loss: 0.000089, time: 0.2s\n",
      "epoch 26, training loss: 0.000080, time: 0.2s\n",
      "epoch 27, training loss: 0.000056, time: 0.2s\n",
      "epoch 28, training loss: 0.000085, time: 0.2s\n",
      "epoch 29, training loss: 0.000099, time: 0.2s\n",
      "epoch 30, training loss: 0.000094, time: 0.2s\n",
      "epoch 31, training loss: 0.000075, time: 0.2s\n",
      "epoch 32, training loss: 0.000098, time: 0.2s\n",
      "epoch 33, training loss: 0.000074, time: 0.2s\n",
      "epoch 34, training loss: 0.000084, time: 0.2s\n",
      "epoch 35, training loss: 0.000095, time: 0.2s\n",
      "epoch 36, training loss: 0.000086, time: 0.2s\n",
      "epoch 37, training loss: 0.000092, time: 0.2s\n",
      "epoch 38, training loss: 0.000112, time: 0.2s\n",
      "epoch 39, training loss: 0.000081, time: 0.2s\n",
      "epoch 40, training loss: 0.000098, time: 0.2s\n",
      "epoch 41, training loss: 0.000084, time: 0.2s\n",
      "epoch 42, training loss: 0.000108, time: 0.2s\n",
      "epoch 43, training loss: 0.000086, time: 0.2s\n",
      "epoch 44, training loss: 0.000092, time: 0.2s\n",
      "epoch 45, training loss: 0.000082, time: 0.2s\n",
      "epoch 46, training loss: 0.000072, time: 0.2s\n",
      "epoch 47, training loss: 0.000094, time: 0.2s\n",
      "epoch 48, training loss: 0.000088, time: 0.2s\n",
      "epoch 49, training loss: 0.000091, time: 0.2s\n",
      "epoch 50, training loss: 0.000095, time: 0.2s\n"
     ]
    }
   ],
   "source": [
    "clf_imu = model(epochs=50,batch_size=4,seq_len=1)\n",
    "clf_imu.fit(train_imu)\n",
    "clf_audio = model(epochs=50,batch_size=4,seq_len=1)\n",
    "clf_audio.fit(np.mean(train_audio,axis=-1))\n",
    "clf_all = model(epochs=50,batch_size=4,seq_len=1)\n",
    "clf_all.fit(train_combine)"
   ]
  },
  {
   "cell_type": "code",
   "execution_count": null,
   "metadata": {},
   "outputs": [],
   "source": [
    "scores_audio      = clf_audio.decision_function(np.mean(test_audio_all,axis=-1))\n",
    "scores_imu        = clf_imu.decision_function(test_imu_all)\n",
    "scores_all        = clf_all.decision_function(test_combine)"
   ]
  },
  {
   "cell_type": "code",
   "execution_count": null,
   "metadata": {},
   "outputs": [
    {
     "name": "stdout",
     "output_type": "stream",
     "text": [
      "(0.8767563823471206, 0.8565451015350103, 0.8124026877942822, 0.7834757834757835, 0.843558282208589)\n",
      "(0.6611996173890099, 0.5559359836198057, 0.7171550241831326, 0.5838150289017341, 0.9294478527607362)\n",
      "(0.6541493502209907, 0.5275599529838066, 0.7393891592889379, 0.6112224448897795, 0.9355828220858896)\n"
     ]
    }
   ],
   "source": [
    "#auc, mean precision, F1, percision, recall\n",
    "eval_metrics_audio = ts_metrics(labels_all, scores_audio)\n",
    "eval_metrics_imu = ts_metrics(labels_all, scores_imu)\n",
    "result_audio = eval_metrics_audio\n",
    "result_imu = eval_metrics_imu\n",
    "eval_metrics_all = ts_metrics(labels_all, scores_all)\n",
    "result_all = eval_metrics_all\n",
    "\n",
    "print(result_audio)\n",
    "print(result_imu)\n",
    "print(result_all)"
   ]
  },
  {
   "cell_type": "code",
   "execution_count": null,
   "metadata": {},
   "outputs": [],
   "source": []
  },
  {
   "cell_type": "code",
   "execution_count": null,
   "metadata": {},
   "outputs": [],
   "source": []
  }
 ],
 "metadata": {
  "kernelspec": {
   "display_name": "ai",
   "language": "python",
   "name": "python3"
  },
  "language_info": {
   "codemirror_mode": {
    "name": "ipython",
    "version": 3
   },
   "file_extension": ".py",
   "mimetype": "text/x-python",
   "name": "python",
   "nbconvert_exporter": "python",
   "pygments_lexer": "ipython3",
   "version": "3.8.19"
  }
 },
 "nbformat": 4,
 "nbformat_minor": 2
}
