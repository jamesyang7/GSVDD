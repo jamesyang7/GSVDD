{
 "cells": [
  {
   "cell_type": "code",
   "execution_count": 1,
   "metadata": {},
   "outputs": [],
   "source": [
    "import sys\n",
    "import numpy as np\n",
    "sys.path.append('../')\n",
    "from deepod.models.time_series import DeepSVDDTS\n",
    "from load_data import load_data\n",
    "from deepod.metrics import ts_metrics\n",
    "from deepod.metrics import point_adjustment "
   ]
  },
  {
   "cell_type": "code",
   "execution_count": 2,
   "metadata": {},
   "outputs": [],
   "source": [
    "train_imu,train_audio,train_spec,val_imu,val_audio,val_spec,val_imu_normal,val_audio_normal,val_spec_normal = load_data()\n",
    "\n",
    "train_combine = np.concatenate([np.mean(train_audio,axis=-1),train_imu],axis=1)\n",
    "\n",
    "test_audio_all = np.concatenate([val_audio_normal,val_audio],axis=0)\n",
    "test_imu_all   = np.concatenate([val_imu_normal,val_imu],axis=0)\n",
    "test_combine = np.concatenate([np.mean(test_audio_all,axis=-1),test_imu_all],axis=1)\n",
    "\n",
    "labels_all = np.concatenate([np.zeros(val_audio_normal.shape[0]),np.ones(val_audio.shape[0])])"
   ]
  },
  {
   "cell_type": "code",
   "execution_count": 3,
   "metadata": {},
   "outputs": [
    {
     "name": "stdout",
     "output_type": "stream",
     "text": [
      "119 200\n",
      "Start Training...\n",
      "ensemble size: 1\n",
      "ConvSeqEncoder(\n",
      "  (enc): Sequential(\n",
      "    (0): ConvResBlock(\n",
      "      (conv1): Conv1d(200, 200, kernel_size=(1,), stride=(1,), bias=False)\n",
      "      (conv2): Conv1d(200, 200, kernel_size=(3,), stride=(1,), padding=(1,), bias=False)\n",
      "      (conv3): Conv1d(200, 512, kernel_size=(1,), stride=(1,), bias=False)\n",
      "      (bn1): BatchNorm1d(200, eps=1e-05, momentum=0.1, affine=True, track_running_stats=True)\n",
      "      (bn2): BatchNorm1d(200, eps=1e-05, momentum=0.1, affine=True, track_running_stats=True)\n",
      "      (bn3): BatchNorm1d(512, eps=1e-05, momentum=0.1, affine=True, track_running_stats=True)\n",
      "      (bn4): BatchNorm1d(512, eps=1e-05, momentum=0.1, affine=True, track_running_stats=True)\n",
      "      (act): GELU(approximate='none')\n",
      "      (down_sample): Conv1d(200, 512, kernel_size=(3,), stride=(1,), padding=(1,), bias=False)\n",
      "    )\n",
      "    (1): ConvResBlock(\n",
      "      (conv1): Conv1d(512, 512, kernel_size=(1,), stride=(1,), bias=False)\n",
      "      (conv2): Conv1d(512, 512, kernel_size=(3,), stride=(2,), padding=(1,), bias=False)\n",
      "      (conv3): Conv1d(512, 512, kernel_size=(1,), stride=(1,), bias=False)\n",
      "      (bn1): BatchNorm1d(512, eps=1e-05, momentum=0.1, affine=True, track_running_stats=True)\n",
      "      (bn2): BatchNorm1d(512, eps=1e-05, momentum=0.1, affine=True, track_running_stats=True)\n",
      "      (bn3): BatchNorm1d(512, eps=1e-05, momentum=0.1, affine=True, track_running_stats=True)\n",
      "      (bn4): BatchNorm1d(512, eps=1e-05, momentum=0.1, affine=True, track_running_stats=True)\n",
      "      (act): GELU(approximate='none')\n",
      "      (down_sample): Conv1d(512, 512, kernel_size=(3,), stride=(2,), padding=(1,), bias=False)\n",
      "    )\n",
      "  )\n",
      "  (final_layer): Conv1d(512, 64, kernel_size=(1,), stride=(1,))\n",
      ")\n",
      "epoch  1, training loss: 17.443376, time: 0.1s\n",
      "epoch 10, training loss: 10.652160, time: 0.0s\n",
      "epoch 20, training loss: 7.165085, time: 0.0s\n",
      "epoch 30, training loss: 5.055817, time: 0.0s\n",
      "epoch 40, training loss: 3.934402, time: 0.0s\n",
      "epoch 50, training loss: 3.129552, time: 0.0s\n",
      "Start Inference on the training data...\n"
     ]
    },
    {
     "name": "stderr",
     "output_type": "stream",
     "text": [
      "testing: 100%|██████████| 19/19 [00:00<00:00, 1067.71it/s]"
     ]
    },
    {
     "name": "stdout",
     "output_type": "stream",
     "text": [
      "119 4800\n",
      "Start Training...\n",
      "ensemble size: 1\n"
     ]
    },
    {
     "name": "stderr",
     "output_type": "stream",
     "text": [
      "\n"
     ]
    },
    {
     "name": "stdout",
     "output_type": "stream",
     "text": [
      "ConvSeqEncoder(\n",
      "  (enc): Sequential(\n",
      "    (0): ConvResBlock(\n",
      "      (conv1): Conv1d(4800, 4800, kernel_size=(1,), stride=(1,), bias=False)\n",
      "      (conv2): Conv1d(4800, 4800, kernel_size=(3,), stride=(1,), padding=(1,), bias=False)\n",
      "      (conv3): Conv1d(4800, 512, kernel_size=(1,), stride=(1,), bias=False)\n",
      "      (bn1): BatchNorm1d(4800, eps=1e-05, momentum=0.1, affine=True, track_running_stats=True)\n",
      "      (bn2): BatchNorm1d(4800, eps=1e-05, momentum=0.1, affine=True, track_running_stats=True)\n",
      "      (bn3): BatchNorm1d(512, eps=1e-05, momentum=0.1, affine=True, track_running_stats=True)\n",
      "      (bn4): BatchNorm1d(512, eps=1e-05, momentum=0.1, affine=True, track_running_stats=True)\n",
      "      (act): GELU(approximate='none')\n",
      "      (down_sample): Conv1d(4800, 512, kernel_size=(3,), stride=(1,), padding=(1,), bias=False)\n",
      "    )\n",
      "    (1): ConvResBlock(\n",
      "      (conv1): Conv1d(512, 512, kernel_size=(1,), stride=(1,), bias=False)\n",
      "      (conv2): Conv1d(512, 512, kernel_size=(3,), stride=(2,), padding=(1,), bias=False)\n",
      "      (conv3): Conv1d(512, 512, kernel_size=(1,), stride=(1,), bias=False)\n",
      "      (bn1): BatchNorm1d(512, eps=1e-05, momentum=0.1, affine=True, track_running_stats=True)\n",
      "      (bn2): BatchNorm1d(512, eps=1e-05, momentum=0.1, affine=True, track_running_stats=True)\n",
      "      (bn3): BatchNorm1d(512, eps=1e-05, momentum=0.1, affine=True, track_running_stats=True)\n",
      "      (bn4): BatchNorm1d(512, eps=1e-05, momentum=0.1, affine=True, track_running_stats=True)\n",
      "      (act): GELU(approximate='none')\n",
      "      (down_sample): Conv1d(512, 512, kernel_size=(3,), stride=(2,), padding=(1,), bias=False)\n",
      "    )\n",
      "  )\n",
      "  (final_layer): Conv1d(512, 64, kernel_size=(1,), stride=(1,))\n",
      ")\n",
      "epoch  1, training loss: 19.631893, time: 0.1s\n",
      "epoch 10, training loss: 3.537209, time: 0.0s\n",
      "epoch 20, training loss: 1.826655, time: 0.0s\n",
      "epoch 30, training loss: 1.335896, time: 0.0s\n",
      "epoch 40, training loss: 1.222207, time: 0.0s\n",
      "epoch 50, training loss: 0.977663, time: 0.0s\n",
      "Start Inference on the training data...\n"
     ]
    },
    {
     "name": "stderr",
     "output_type": "stream",
     "text": [
      "testing: 100%|██████████| 19/19 [00:00<00:00, 407.50it/s]"
     ]
    },
    {
     "name": "stdout",
     "output_type": "stream",
     "text": [
      "119 5000\n",
      "Start Training...\n",
      "ensemble size: 1\n"
     ]
    },
    {
     "name": "stderr",
     "output_type": "stream",
     "text": [
      "\n"
     ]
    },
    {
     "name": "stdout",
     "output_type": "stream",
     "text": [
      "ConvSeqEncoder(\n",
      "  (enc): Sequential(\n",
      "    (0): ConvResBlock(\n",
      "      (conv1): Conv1d(5000, 5000, kernel_size=(1,), stride=(1,), bias=False)\n",
      "      (conv2): Conv1d(5000, 5000, kernel_size=(3,), stride=(1,), padding=(1,), bias=False)\n",
      "      (conv3): Conv1d(5000, 512, kernel_size=(1,), stride=(1,), bias=False)\n",
      "      (bn1): BatchNorm1d(5000, eps=1e-05, momentum=0.1, affine=True, track_running_stats=True)\n",
      "      (bn2): BatchNorm1d(5000, eps=1e-05, momentum=0.1, affine=True, track_running_stats=True)\n",
      "      (bn3): BatchNorm1d(512, eps=1e-05, momentum=0.1, affine=True, track_running_stats=True)\n",
      "      (bn4): BatchNorm1d(512, eps=1e-05, momentum=0.1, affine=True, track_running_stats=True)\n",
      "      (act): GELU(approximate='none')\n",
      "      (down_sample): Conv1d(5000, 512, kernel_size=(3,), stride=(1,), padding=(1,), bias=False)\n",
      "    )\n",
      "    (1): ConvResBlock(\n",
      "      (conv1): Conv1d(512, 512, kernel_size=(1,), stride=(1,), bias=False)\n",
      "      (conv2): Conv1d(512, 512, kernel_size=(3,), stride=(2,), padding=(1,), bias=False)\n",
      "      (conv3): Conv1d(512, 512, kernel_size=(1,), stride=(1,), bias=False)\n",
      "      (bn1): BatchNorm1d(512, eps=1e-05, momentum=0.1, affine=True, track_running_stats=True)\n",
      "      (bn2): BatchNorm1d(512, eps=1e-05, momentum=0.1, affine=True, track_running_stats=True)\n",
      "      (bn3): BatchNorm1d(512, eps=1e-05, momentum=0.1, affine=True, track_running_stats=True)\n",
      "      (bn4): BatchNorm1d(512, eps=1e-05, momentum=0.1, affine=True, track_running_stats=True)\n",
      "      (act): GELU(approximate='none')\n",
      "      (down_sample): Conv1d(512, 512, kernel_size=(3,), stride=(2,), padding=(1,), bias=False)\n",
      "    )\n",
      "  )\n",
      "  (final_layer): Conv1d(512, 64, kernel_size=(1,), stride=(1,))\n",
      ")\n",
      "epoch  1, training loss: 19.886324, time: 0.0s\n",
      "epoch 10, training loss: 3.563379, time: 0.0s\n",
      "epoch 20, training loss: 2.163764, time: 0.0s\n",
      "epoch 30, training loss: 1.647223, time: 0.0s\n",
      "epoch 40, training loss: 1.453943, time: 0.0s\n",
      "epoch 50, training loss: 1.047642, time: 0.0s\n",
      "Start Inference on the training data...\n"
     ]
    },
    {
     "name": "stderr",
     "output_type": "stream",
     "text": [
      "testing: 100%|██████████| 19/19 [00:00<00:00, 363.62it/s]\n"
     ]
    },
    {
     "data": {
      "text/plain": [
       "<deepod.models.time_series.dsvdd.DeepSVDDTS at 0x7fc59bde9be0>"
      ]
     },
     "execution_count": 3,
     "metadata": {},
     "output_type": "execute_result"
    }
   ],
   "source": [
    "clf_imu = DeepSVDDTS(epochs=50,network='ConvSeq',seq_len=1)\n",
    "clf_imu.fit(train_imu)\n",
    "clf_audio = DeepSVDDTS(epochs=50,network='ConvSeq',seq_len=1)\n",
    "clf_audio.fit(np.mean(train_audio,axis=-1))\n",
    "clf_all = DeepSVDDTS(epochs=50,network='ConvSeq',seq_len=1)\n",
    "clf_all.fit(train_combine)"
   ]
  },
  {
   "cell_type": "code",
   "execution_count": 4,
   "metadata": {},
   "outputs": [
    {
     "name": "stderr",
     "output_type": "stream",
     "text": [
      "testing: 100%|██████████| 11/11 [00:00<00:00, 345.32it/s]\n",
      "testing: 100%|██████████| 11/11 [00:00<00:00, 1068.27it/s]\n",
      "testing: 100%|██████████| 11/11 [00:00<00:00, 352.54it/s]\n"
     ]
    }
   ],
   "source": [
    "scores_audio      = clf_audio.decision_function(np.mean(test_audio_all,axis=-1))\n",
    "scores_imu        = clf_imu.decision_function(test_imu_all)\n",
    "scores_all        = clf_all.decision_function(test_combine)"
   ]
  },
  {
   "cell_type": "code",
   "execution_count": null,
   "metadata": {},
   "outputs": [],
   "source": []
  },
  {
   "cell_type": "code",
   "execution_count": 5,
   "metadata": {},
   "outputs": [
    {
     "name": "stdout",
     "output_type": "stream",
     "text": [
      "(0.8389982848472854, 0.8546297126259125, 0.7656427568237126, 0.7285318559556787, 0.8067484662576687)\n",
      "(0.3816214789893792, 0.3869617091631131, 0.6473482551712623, 0.48, 0.9938650306748467)\n",
      "(0.599520087076984, 0.5095819856430421, 0.6834815568244264, 0.5457875457875457, 0.9141104294478528)\n"
     ]
    }
   ],
   "source": [
    "#auc, mean precision, F1, percision, recall\n",
    "eval_metrics_audio = ts_metrics(labels_all, scores_audio)\n",
    "eval_metrics_imu = ts_metrics(labels_all, scores_imu)\n",
    "result_audio = eval_metrics_audio\n",
    "result_imu = eval_metrics_imu\n",
    "eval_metrics_all = ts_metrics(labels_all, scores_all)\n",
    "result_all = eval_metrics_all\n",
    "\n",
    "print(result_audio)\n",
    "print(result_imu)\n",
    "print(result_all)"
   ]
  },
  {
   "cell_type": "code",
   "execution_count": null,
   "metadata": {},
   "outputs": [],
   "source": []
  },
  {
   "cell_type": "code",
   "execution_count": null,
   "metadata": {},
   "outputs": [],
   "source": []
  }
 ],
 "metadata": {
  "kernelspec": {
   "display_name": "ai",
   "language": "python",
   "name": "python3"
  },
  "language_info": {
   "codemirror_mode": {
    "name": "ipython",
    "version": 3
   },
   "file_extension": ".py",
   "mimetype": "text/x-python",
   "name": "python",
   "nbconvert_exporter": "python",
   "pygments_lexer": "ipython3",
   "version": "3.8.19"
  }
 },
 "nbformat": 4,
 "nbformat_minor": 2
}
