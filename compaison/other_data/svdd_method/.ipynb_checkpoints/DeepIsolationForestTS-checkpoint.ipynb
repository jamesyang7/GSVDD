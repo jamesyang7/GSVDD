{
 "cells": [
  {
   "cell_type": "code",
   "execution_count": 2,
   "metadata": {},
   "outputs": [],
   "source": [
    "import sys\n",
    "import numpy as np\n",
    "sys.path.append('../')\n",
    "from deepod.models.time_series import DeepIsolationForestTS as model\n",
    "from load_data import load_data\n",
    "from deepod.metrics import ts_metrics\n",
    "from deepod.metrics import point_adjustment "
   ]
  },
  {
   "cell_type": "code",
   "execution_count": 3,
   "metadata": {},
   "outputs": [],
   "source": [
    "train_imu,train_audio,train_spec,val_imu,val_audio,val_spec,val_imu_normal,val_audio_normal,val_spec_normal = load_data()\n",
    "\n",
    "train_combine = np.concatenate([np.mean(train_audio,axis=-1),train_imu],axis=1)\n",
    "\n",
    "test_audio_all = np.concatenate([val_audio_normal,val_audio],axis=0)\n",
    "test_imu_all   = np.concatenate([val_imu_normal,val_imu],axis=0)\n",
    "test_combine = np.concatenate([np.mean(test_audio_all,axis=-1),test_imu_all],axis=1)\n",
    "\n",
    "labels_all = np.concatenate([np.zeros(val_audio_normal.shape[0]),np.ones(val_audio.shape[0])])"
   ]
  },
  {
   "cell_type": "code",
   "execution_count": 4,
   "metadata": {},
   "outputs": [
    {
     "name": "stdout",
     "output_type": "stream",
     "text": [
      "Start Training...\n"
     ]
    },
    {
     "name": "stderr",
     "output_type": "stream",
     "text": [
      "  0%|          | 0/50 [00:00<?, ?it/s]"
     ]
    },
    {
     "name": "stderr",
     "output_type": "stream",
     "text": [
      "100%|██████████| 50/50 [00:07<00:00,  6.71it/s]\n"
     ]
    },
    {
     "name": "stdout",
     "output_type": "stream",
     "text": [
      "Start Inference on the training data...\n",
      "Start Inference...\n"
     ]
    },
    {
     "name": "stderr",
     "output_type": "stream",
     "text": [
      "100%|██████████| 50/50 [00:05<00:00,  8.95it/s]\n"
     ]
    },
    {
     "name": "stdout",
     "output_type": "stream",
     "text": [
      "Start Training...\n"
     ]
    },
    {
     "name": "stderr",
     "output_type": "stream",
     "text": [
      "100%|██████████| 50/50 [00:14<00:00,  3.37it/s]\n"
     ]
    },
    {
     "name": "stdout",
     "output_type": "stream",
     "text": [
      "Start Inference on the training data...\n",
      "Start Inference...\n"
     ]
    },
    {
     "name": "stderr",
     "output_type": "stream",
     "text": [
      "100%|██████████| 50/50 [00:14<00:00,  3.36it/s]\n"
     ]
    },
    {
     "name": "stdout",
     "output_type": "stream",
     "text": [
      "Start Training...\n"
     ]
    },
    {
     "name": "stderr",
     "output_type": "stream",
     "text": [
      "100%|██████████| 50/50 [00:15<00:00,  3.19it/s]\n"
     ]
    },
    {
     "name": "stdout",
     "output_type": "stream",
     "text": [
      "Start Inference on the training data...\n",
      "Start Inference...\n"
     ]
    },
    {
     "name": "stderr",
     "output_type": "stream",
     "text": [
      "100%|██████████| 50/50 [00:17<00:00,  2.88it/s]\n"
     ]
    },
    {
     "data": {
      "text/plain": [
       "<deepod.models.time_series.dif.DeepIsolationForestTS at 0x7f86979cf490>"
      ]
     },
     "execution_count": 4,
     "metadata": {},
     "output_type": "execute_result"
    }
   ],
   "source": [
    "clf_imu = model(epochs=50,batch_size=4)\n",
    "clf_imu.fit(train_imu)\n",
    "clf_audio = model(epochs=50,batch_size=4)\n",
    "clf_audio.fit(np.mean(train_audio,axis=-1))\n",
    "clf_all = model(epochs=50,batch_size=4)\n",
    "clf_all.fit(train_combine)"
   ]
  },
  {
   "cell_type": "code",
   "execution_count": 5,
   "metadata": {},
   "outputs": [
    {
     "name": "stdout",
     "output_type": "stream",
     "text": [
      "Start Inference...\n"
     ]
    },
    {
     "name": "stderr",
     "output_type": "stream",
     "text": [
      "100%|██████████| 50/50 [00:10<00:00,  4.84it/s]\n"
     ]
    },
    {
     "name": "stdout",
     "output_type": "stream",
     "text": [
      "Start Inference...\n"
     ]
    },
    {
     "name": "stderr",
     "output_type": "stream",
     "text": [
      "100%|██████████| 50/50 [00:04<00:00, 11.76it/s]\n"
     ]
    },
    {
     "name": "stdout",
     "output_type": "stream",
     "text": [
      "Start Inference...\n"
     ]
    },
    {
     "name": "stderr",
     "output_type": "stream",
     "text": [
      "100%|██████████| 50/50 [00:09<00:00,  5.02it/s]\n"
     ]
    }
   ],
   "source": [
    "scores_audio      = clf_audio.decision_function(np.mean(test_audio_all,axis=-1))\n",
    "scores_imu        = clf_imu.decision_function(test_imu_all)\n",
    "scores_all        = clf_all.decision_function(test_combine)"
   ]
  },
  {
   "cell_type": "code",
   "execution_count": 6,
   "metadata": {},
   "outputs": [
    {
     "name": "stdout",
     "output_type": "stream",
     "text": [
      "(0.9906821030410977, 0.9920780748380358, 0.9844186772509534, 1.0, 0.9693251533742331)\n",
      "(0.5734134837390329, 0.4542487872435512, 0.7570707388378823, 0.6149425287356322, 0.9846625766871165)\n",
      "(0.6502077973481101, 0.4975203042949353, 0.804450631952144, 0.6742738589211619, 0.9969325153374233)\n"
     ]
    }
   ],
   "source": [
    "#auc, mean precision, F1, percision, recall\n",
    "eval_metrics_audio = ts_metrics(labels_all, scores_audio)\n",
    "eval_metrics_imu = ts_metrics(labels_all, scores_imu)\n",
    "result_audio = eval_metrics_audio\n",
    "result_imu = eval_metrics_imu\n",
    "eval_metrics_all = ts_metrics(labels_all, scores_all)\n",
    "result_all = eval_metrics_all\n",
    "\n",
    "print(result_audio)\n",
    "print(result_imu)\n",
    "print(result_all)"
   ]
  },
  {
   "cell_type": "code",
   "execution_count": null,
   "metadata": {},
   "outputs": [],
   "source": []
  }
 ],
 "metadata": {
  "kernelspec": {
   "display_name": "ai",
   "language": "python",
   "name": "python3"
  },
  "language_info": {
   "codemirror_mode": {
    "name": "ipython",
    "version": 3
   },
   "file_extension": ".py",
   "mimetype": "text/x-python",
   "name": "python",
   "nbconvert_exporter": "python",
   "pygments_lexer": "ipython3",
   "version": "3.8.19"
  }
 },
 "nbformat": 4,
 "nbformat_minor": 2
}
