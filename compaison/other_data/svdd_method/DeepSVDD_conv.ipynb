{
 "cells": [
  {
   "cell_type": "code",
   "execution_count": 1,
   "metadata": {},
   "outputs": [],
   "source": [
    "import sys\n",
    "import numpy as np\n",
    "sys.path.append('../')\n",
    "from deepod.models.time_series import DCdetector as model\n",
    "# from load_data import load_data\n",
    "from deepod.metrics import ts_metrics\n",
    "from deepod.metrics import point_adjustment "
   ]
  },
  {
   "cell_type": "code",
   "execution_count": 2,
   "metadata": {},
   "outputs": [],
   "source": [
    "train_data = np.load('/home/iot/collision_detect/OmniAnomaly/processed/MSL_train.pkl',allow_pickle=True)\n",
    "test_data  = np.load('/home/iot/collision_detect/OmniAnomaly/processed/MSL_test.pkl',allow_pickle=True)\n",
    "test_label = np.load('/home/iot/collision_detect/OmniAnomaly/processed/MSL_test_label.pkl',allow_pickle=True)"
   ]
  },
  {
   "cell_type": "code",
   "execution_count": 3,
   "metadata": {
    "scrolled": true
   },
   "outputs": [
    {
     "name": "stdout",
     "output_type": "stream",
     "text": [
      "Epoch 1\n",
      "Epoch 2\n",
      "Epoch 3\n",
      "Epoch 4\n",
      "Epoch 5\n"
     ]
    }
   ],
   "source": [
    "clf = model(epochs=5,seq_len=100,stride=10)\n",
    "clf.fit(train_data)"
   ]
  },
  {
   "cell_type": "code",
   "execution_count": null,
   "metadata": {},
   "outputs": [],
   "source": []
  },
  {
   "cell_type": "code",
   "execution_count": 6,
   "metadata": {},
   "outputs": [
    {
     "name": "stdout",
     "output_type": "stream",
     "text": [
      "(0.4949852202357459, 0.10425564489039352, 0.19088881726802953, 0.10551630434782609, 1.0)\n"
     ]
    }
   ],
   "source": [
    "scores        = clf.decision_function(test_data)\n",
    "#auc, mean precision, F1, percision, recall\n",
    "eval_metrics_audio = ts_metrics(test_label, scores)\n",
    "result_audio = eval_metrics_audio\n",
    "print(result_audio)"
   ]
  },
  {
   "cell_type": "code",
   "execution_count": 7,
   "metadata": {},
   "outputs": [
    {
     "name": "stdout",
     "output_type": "stream",
     "text": [
      "(0.9829370597566405, 0.862739198382023, 0.9006866093128802, 0.941069173565315, 0.8636363636363636)\n"
     ]
    }
   ],
   "source": [
    "adj_eval_metrics = ts_metrics(test_label, point_adjustment(test_label, scores))\n",
    "print(adj_eval_metrics)"
   ]
  },
  {
   "cell_type": "code",
   "execution_count": 6,
   "metadata": {},
   "outputs": [],
   "source": [
    "def get_sub_seqs_gt(x_arr, seq_len=100, stride=1):\n",
    "    \"\"\"\n",
    "\n",
    "    Parameters\n",
    "    ----------\n",
    "    x_arr: np.array, required\n",
    "        input original data with shape [time_length, channels]\n",
    "\n",
    "    seq_len: int, optional (default=100)\n",
    "        Size of window used to create subsequences from the data\n",
    "get_sub_seqs_label\n",
    "    stride: int, optional (default=1)\n",
    "        number of time points the window will move between two subsequences\n",
    "\n",
    "    Returns\n",
    "    -------\n",
    "    x_seqs: np.array\n",
    "        Split sub-sequences of input time-series data\n",
    "    \"\"\"\n",
    "    print(x_arr.shape[0])\n",
    "    if x_arr.shape[0] < seq_len:\n",
    "        seq_len = x_arr.shape[0]\n",
    "    seq_starts = np.arange(0, x_arr.shape[0] - seq_len + 1, stride)\n",
    "    x_seqs = np.array([x_arr[i:i + seq_len] for i in seq_starts])\n",
    "\n",
    "    return x_seqs\n",
    "\n",
    "\n",
    "def get_sub_seqs_label(y, seq_len=100, stride=1):\n",
    "    \"\"\"\n",
    "\n",
    "    Parameters\n",
    "    ----------\n",
    "    y: np.array, required\n",
    "        data labels\n",
    "\n",
    "    seq_len: int, optional (default=100)\n",
    "        Size of window used to create subsequences from the data\n",
    "\n",
    "    stride: int, optional (default=1)\n",
    "        number of time points the window will move between two subsequences\n",
    "\n",
    "    Returns\n",
    "    -------\n",
    "    y_seqs: np.array\n",
    "        Split label of each sequence\n",
    "    \"\"\"\n",
    "    if y.shape[0] < seq_len:\n",
    "        seq_len = y.shape[0]\n",
    "\n",
    "    seq_starts = np.arange(0, y.shape[0] - seq_len + 1, stride)\n",
    "    ys = np.array([y[i:i + seq_len] for i in seq_starts])\n",
    "    y = np.sum(ys, axis=1) / seq_len\n",
    "\n",
    "    y_binary = np.zeros_like(y)\n",
    "    y_binary[np.where(y!=0)[0]] = 1\n",
    "    return y_binary"
   ]
  },
  {
   "cell_type": "code",
   "execution_count": 7,
   "metadata": {},
   "outputs": [
    {
     "name": "stdout",
     "output_type": "stream",
     "text": [
      "73729\n"
     ]
    }
   ],
   "source": [
    "test_label_n = get_sub_seqs_gt(test_label,100,10)"
   ]
  },
  {
   "cell_type": "code",
   "execution_count": 8,
   "metadata": {},
   "outputs": [],
   "source": [
    "test_label_n = np.sum(test_label_n,axis=-1)"
   ]
  },
  {
   "cell_type": "code",
   "execution_count": 11,
   "metadata": {},
   "outputs": [],
   "source": [
    "test_label_n[test_label_n!=0]=1"
   ]
  },
  {
   "cell_type": "code",
   "execution_count": 12,
   "metadata": {
    "scrolled": true
   },
   "outputs": [
    {
     "name": "stdout",
     "output_type": "stream",
     "text": [
      "(0.5015143879625311, 0.15475189278318668, 0.2663033190589378, 0.15360586717370636, 1.0)\n"
     ]
    }
   ],
   "source": [
    "#auc, mean precision, F1, percision, recall\n",
    "eval_metrics_audio = ts_metrics(test_label_n, scores)\n",
    "result_audio = eval_metrics_audio\n",
    "print(result_audio)"
   ]
  },
  {
   "cell_type": "code",
   "execution_count": null,
   "metadata": {},
   "outputs": [],
   "source": [
    "adj_eval_metrics = ts_metrics(test_label, point_adjustment(test_label_n, scores))\n",
    "print(adj_eval_metrics)"
   ]
  },
  {
   "cell_type": "code",
   "execution_count": null,
   "metadata": {},
   "outputs": [],
   "source": []
  },
  {
   "cell_type": "code",
   "execution_count": null,
   "metadata": {},
   "outputs": [],
   "source": []
  }
 ],
 "metadata": {
  "kernelspec": {
   "display_name": "Python 3 (ipykernel)",
   "language": "python",
   "name": "python3"
  },
  "language_info": {
   "codemirror_mode": {
    "name": "ipython",
    "version": 3
   },
   "file_extension": ".py",
   "mimetype": "text/x-python",
   "name": "python",
   "nbconvert_exporter": "python",
   "pygments_lexer": "ipython3",
   "version": "3.8.19"
  }
 },
 "nbformat": 4,
 "nbformat_minor": 4
}
