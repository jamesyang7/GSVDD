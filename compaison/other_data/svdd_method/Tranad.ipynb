{
 "cells": [
  {
   "cell_type": "code",
   "execution_count": 1,
   "metadata": {},
   "outputs": [],
   "source": [
    "import sys\n",
    "import numpy as np\n",
    "sys.path.append('../')\n",
    "from deepod.models.time_series import TranAD as model\n",
    "from load_data import load_data\n",
    "from deepod.metrics import ts_metrics\n",
    "from deepod.metrics import point_adjustment "
   ]
  },
  {
   "cell_type": "code",
   "execution_count": 2,
   "metadata": {},
   "outputs": [],
   "source": [
    "train_imu,train_audio,train_spec,val_imu,val_audio,val_spec,val_imu_normal,val_audio_normal,val_spec_normal = load_data()\n",
    "\n",
    "train_combine = np.concatenate([np.mean(train_audio,axis=-1),train_imu],axis=1)\n",
    "\n",
    "test_audio_all = np.concatenate([val_audio_normal,val_audio],axis=0)\n",
    "test_imu_all   = np.concatenate([val_imu_normal,val_imu],axis=0)\n",
    "test_combine = np.concatenate([np.mean(test_audio_all,axis=-1),test_imu_all],axis=1)\n",
    "labels_all = np.concatenate([np.zeros(val_audio_normal.shape[0]),np.ones(val_audio.shape[0])])"
   ]
  },
  {
   "cell_type": "code",
   "execution_count": 3,
   "metadata": {},
   "outputs": [],
   "source": [
    "train_audio = np.mean(train_audio,axis=-1)\n",
    "train_audio = train_audio.reshape(-1,1)"
   ]
  },
  {
   "cell_type": "code",
   "execution_count": 4,
   "metadata": {},
   "outputs": [],
   "source": [
    "# train_imu = train_imu[:,:,np.newaxis]"
   ]
  },
  {
   "cell_type": "code",
   "execution_count": 5,
   "metadata": {},
   "outputs": [],
   "source": [
    "# train_imu = train_imu.reshape(-1,1)\n",
    "# test_imu_all = test_imu_all.reshape(-1,1)"
   ]
  },
  {
   "cell_type": "code",
   "execution_count": 4,
   "metadata": {},
   "outputs": [
    {
     "name": "stderr",
     "output_type": "stream",
     "text": [
      "/home/iot/anaconda3/envs/ai/lib/python3.8/site-packages/torch/nn/modules/transformer.py:306: UserWarning: enable_nested_tensor is True, but self.use_nested_tensor is False because encoder_layer was not TransformerEncoderLayer\n",
      "  warnings.warn(f\"enable_nested_tensor is True, but self.use_nested_tensor is False because {why_not_sparsity_fast_path}\")\n"
     ]
    },
    {
     "name": "stdout",
     "output_type": "stream",
     "text": [
      "Epoch 1,\t L1 = 0.15549604933370242\n",
      "Epoch 2,\t L1 = 0.12507627023891968\n",
      "Epoch 3,\t L1 = 0.08267469704151154\n",
      "Epoch 4,\t L1 = 0.04419781233776699\n",
      "Epoch 5,\t L1 = 0.024034187303517352\n",
      "Epoch 6,\t L1 = 0.01452174215492877\n",
      "Epoch 7,\t L1 = 0.008050868933258409\n",
      "Epoch 8,\t L1 = 0.011926366296723823\n",
      "Epoch 9,\t L1 = 0.011625376455909149\n",
      "Epoch 10,\t L1 = 0.009261820364785804\n",
      "Epoch 11,\t L1 = 0.008690907154232264\n",
      "Epoch 12,\t L1 = 0.008701390041758052\n",
      "Epoch 13,\t L1 = 0.0024725702506574717\n",
      "Epoch 14,\t L1 = 0.013373436457186472\n",
      "Epoch 15,\t L1 = 0.007533634582862512\n",
      "Epoch 16,\t L1 = 0.004537650422373024\n",
      "Epoch 17,\t L1 = 0.0036323687626546334\n",
      "Epoch 18,\t L1 = 0.009114445122329264\n",
      "Epoch 19,\t L1 = 0.00996943259220147\n",
      "Epoch 20,\t L1 = 0.006839416069190272\n",
      "Epoch 21,\t L1 = 0.010473449640068628\n",
      "Epoch 22,\t L1 = 0.003488664660504913\n",
      "Epoch 23,\t L1 = 0.006464696801975317\n",
      "Epoch 24,\t L1 = 0.00621663632128647\n",
      "Epoch 25,\t L1 = 0.0059295140751849185\n",
      "Epoch 26,\t L1 = 0.0022740386249841486\n",
      "Epoch 27,\t L1 = 0.00848085793586506\n",
      "Epoch 28,\t L1 = 0.002018007373738907\n",
      "Epoch 29,\t L1 = 0.00844769835417868\n",
      "Epoch 30,\t L1 = 0.004606991632251514\n",
      "Epoch 31,\t L1 = 0.005528842400301734\n",
      "Epoch 32,\t L1 = 0.004538447139070327\n",
      "Epoch 33,\t L1 = 0.004256956006760116\n",
      "Epoch 34,\t L1 = 0.002394995329351249\n",
      "Epoch 35,\t L1 = 0.011930192516460507\n",
      "Epoch 36,\t L1 = 0.004142485290437683\n",
      "Epoch 37,\t L1 = 0.005223152301947597\n",
      "Epoch 38,\t L1 = 0.009651979690137192\n",
      "Epoch 39,\t L1 = 0.007094592978649995\n",
      "Epoch 40,\t L1 = 0.003554075245698517\n",
      "Epoch 41,\t L1 = 0.004994194532297446\n",
      "Epoch 42,\t L1 = 0.005277372529896887\n",
      "Epoch 43,\t L1 = 0.0035342068622412626\n",
      "Epoch 44,\t L1 = 0.0035905088532837744\n",
      "Epoch 45,\t L1 = 0.005573778094416907\n",
      "Epoch 46,\t L1 = 0.006946427863691828\n",
      "Epoch 47,\t L1 = 0.0034532979417153083\n",
      "Epoch 48,\t L1 = 0.0048816099522148515\n",
      "Epoch 49,\t L1 = 0.0053193151543382555\n",
      "Epoch 50,\t L1 = 0.007854193234710361\n"
     ]
    }
   ],
   "source": [
    "# clf_imu = model(epochs=50,batch_size=4,seq_len=400,stride=400)\n",
    "# clf_imu.fit(train_imu)\n",
    "clf_audio = model(epochs=50,batch_size=2,seq_len=8820,stride=8820,device='cuda:1')\n",
    "clf_audio.fit(train_audio)\n",
    "# clf_all = model(epochs=50,batch_size=4)\n",
    "# clf_all.fit(train_combine)"
   ]
  },
  {
   "cell_type": "code",
   "execution_count": 11,
   "metadata": {},
   "outputs": [],
   "source": [
    "scores_audio      = clf_audio.decision_function(np.mean(test_audio_all,axis=-1).reshape(-1,1))\n",
    "# scores_imu        = clf_imu.decision_function(test_imu_all.reshape(-1,1))\n",
    "# scores_all        = clf_all.decision_function(test_combine)"
   ]
  },
  {
   "cell_type": "code",
   "execution_count": 12,
   "metadata": {},
   "outputs": [
    {
     "name": "stdout",
     "output_type": "stream",
     "text": [
      "(0.5159536236013262, 0.460431664787213, 0.556200364363793, 0.3852376137512639, 1.0)\n"
     ]
    }
   ],
   "source": [
    "#auc, mean precision, F1, percision, recall\n",
    "eval_metrics_audio = ts_metrics(labels_all, scores_audio)\n",
    "# eval_metrics_imu = ts_metrics(labels_all, scores_imu)\n",
    "result_audio = eval_metrics_audio\n",
    "# result_imu = eval_metrics_imu\n",
    "# eval_metrics_all = ts_metrics(labels_all, scores_all)\n",
    "# result_all = eval_metrics_all\n",
    "\n",
    "print(result_audio)\n",
    "# print(result_imu)\n",
    "# print(result_all)"
   ]
  },
  {
   "cell_type": "code",
   "execution_count": null,
   "metadata": {},
   "outputs": [],
   "source": []
  },
  {
   "cell_type": "code",
   "execution_count": null,
   "metadata": {},
   "outputs": [],
   "source": []
  }
 ],
 "metadata": {
  "kernelspec": {
   "display_name": "ai",
   "language": "python",
   "name": "python3"
  },
  "language_info": {
   "codemirror_mode": {
    "name": "ipython",
    "version": 3
   },
   "file_extension": ".py",
   "mimetype": "text/x-python",
   "name": "python",
   "nbconvert_exporter": "python",
   "pygments_lexer": "ipython3",
   "version": "3.8.19"
  }
 },
 "nbformat": 4,
 "nbformat_minor": 2
}
