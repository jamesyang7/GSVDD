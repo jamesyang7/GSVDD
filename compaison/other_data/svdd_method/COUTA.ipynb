{
 "cells": [
  {
   "cell_type": "code",
   "execution_count": 1,
   "metadata": {},
   "outputs": [],
   "source": [
    "import sys\n",
    "import numpy as np\n",
    "sys.path.append('../')\n",
    "from deepod.models.time_series import COUTA\n",
    "from load_data import load_data\n",
    "from deepod.metrics import ts_metrics\n",
    "from deepod.metrics import point_adjustment "
   ]
  },
  {
   "cell_type": "code",
   "execution_count": 2,
   "metadata": {},
   "outputs": [],
   "source": [
    "train_imu,train_audio,train_spec,val_imu,val_audio,val_spec,val_imu_normal,val_audio_normal,val_spec_normal = load_data()\n",
    "\n",
    "train_combine = np.concatenate([np.mean(train_audio,axis=-1),train_imu],axis=1)\n",
    "\n",
    "test_audio_all = np.concatenate([val_audio_normal,val_audio],axis=0)\n",
    "test_imu_all   = np.concatenate([val_imu_normal,val_imu],axis=0)\n",
    "test_combine = np.concatenate([np.mean(test_audio_all,axis=-1),test_imu_all],axis=1)\n",
    "\n",
    "labels_all = np.concatenate([np.zeros(val_audio_normal.shape[0]),np.ones(val_audio.shape[0])])"
   ]
  },
  {
   "cell_type": "code",
   "execution_count": 3,
   "metadata": {},
   "outputs": [
    {
     "name": "stderr",
     "output_type": "stream",
     "text": [
      "/home/iot/anaconda3/envs/ai/lib/python3.8/site-packages/torch/nn/utils/weight_norm.py:28: UserWarning: torch.nn.utils.weight_norm is deprecated in favor of torch.nn.utils.parametrizations.weight_norm.\n",
      "  warnings.warn(\"torch.nn.utils.weight_norm is deprecated in favor of torch.nn.utils.parametrizations.weight_norm.\")\n"
     ]
    },
    {
     "name": "stdout",
     "output_type": "stream",
     "text": [
      "|>>> epoch: 01  |   loss: 0.155728, loss_oc: 0.042430, val_loss: 0.031455\n",
      "|>>> epoch: 02  |   loss: 0.133675, loss_oc: 0.026026, val_loss: 0.021586\n",
      "|>>> epoch: 03  |   loss: 0.121237, loss_oc: 0.018636, val_loss: 0.015936\n",
      "|>>> epoch: 04  |   loss: 0.110298, loss_oc: 0.013062, val_loss: 0.010226\n",
      "|>>> epoch: 05  |   loss: 0.102546, loss_oc: 0.008482, val_loss: 0.006869\n",
      "|>>> epoch: 06  |   loss: 0.097316, loss_oc: 0.005577, val_loss: 0.004292\n",
      "|>>> epoch: 07  |   loss: 0.091610, loss_oc: 0.003333, val_loss: 0.002603\n",
      "|>>> epoch: 08  |   loss: 0.087255, loss_oc: 0.002056, val_loss: 0.001698\n",
      "|>>> epoch: 09  |   loss: 0.083267, loss_oc: 0.001349, val_loss: 0.001079\n",
      "|>>> epoch: 10  |   loss: 0.077365, loss_oc: 0.001490, val_loss: 0.001699\n",
      "|>>> epoch: 11  |   loss: 0.067959, loss_oc: 0.001642, val_loss: 0.001726\n",
      "|>>> epoch: 12  |   loss: 0.054251, loss_oc: 0.001825, val_loss: 0.001317\n",
      "|>>> epoch: 13  |   loss: 0.041077, loss_oc: 0.000734, val_loss: 0.000351\n",
      "|>>> epoch: 14  |   loss: 0.035226, loss_oc: 0.000316, val_loss: 0.000234\n",
      "|>>> epoch: 15  |   loss: 0.031801, loss_oc: 0.000316, val_loss: 0.000273\n",
      "|>>> epoch: 16  |   loss: 0.030086, loss_oc: 0.000278, val_loss: 0.000384\n",
      "|>>> epoch: 17  |   loss: 0.028080, loss_oc: 0.000242, val_loss: 0.000208\n",
      "|>>> epoch: 18  |   loss: 0.026819, loss_oc: 0.000254, val_loss: 0.000352\n",
      "|>>> epoch: 19  |   loss: 0.026473, loss_oc: 0.000230, val_loss: 0.000344\n",
      "|>>> epoch: 20  |   loss: 0.026670, loss_oc: 0.000211, val_loss: 0.000366\n",
      "|>>> epoch: 21  |   loss: 0.023174, loss_oc: 0.000230, val_loss: 0.000219\n",
      "|>>> epoch: 22  |   loss: 0.024959, loss_oc: 0.000268, val_loss: 0.000321\n",
      "|>>> epoch: 23  |   loss: 0.023341, loss_oc: 0.000260, val_loss: 0.000176\n",
      "|>>> epoch: 24  |   loss: 0.022760, loss_oc: 0.000232, val_loss: 0.000270\n",
      "|>>> epoch: 25  |   loss: 0.022209, loss_oc: 0.000216, val_loss: 0.000209\n",
      "|>>> epoch: 26  |   loss: 0.022439, loss_oc: 0.000205, val_loss: 0.000196\n",
      "|>>> epoch: 27  |   loss: 0.022241, loss_oc: 0.000229, val_loss: 0.000239\n",
      "|>>> epoch: 28  |   loss: 0.022395, loss_oc: 0.000260, val_loss: 0.000290\n",
      "|>>> epoch: 29  |   loss: 0.021283, loss_oc: 0.000293, val_loss: 0.000198\n",
      "|>>> epoch: 30  |   loss: 0.020907, loss_oc: 0.000230, val_loss: 0.000202\n",
      "|>>> epoch: 31  |   loss: 0.020548, loss_oc: 0.000230, val_loss: 0.000330\n",
      "|>>> epoch: 32  |   loss: 0.021128, loss_oc: 0.000242, val_loss: 0.000171\n",
      "|>>> epoch: 33  |   loss: 0.019944, loss_oc: 0.000265, val_loss: 0.000441\n",
      "|>>> epoch: 34  |   loss: 0.020558, loss_oc: 0.000200, val_loss: 0.000259\n",
      "|>>> epoch: 35  |   loss: 0.020375, loss_oc: 0.000206, val_loss: 0.000190\n",
      "|>>> epoch: 36  |   loss: 0.020526, loss_oc: 0.000218, val_loss: 0.000246\n",
      "|>>> epoch: 37  |   loss: 0.020448, loss_oc: 0.000235, val_loss: 0.000318\n",
      "|>>> epoch: 38  |   loss: 0.019315, loss_oc: 0.000237, val_loss: 0.000218\n",
      "|>>> epoch: 39  |   loss: 0.020180, loss_oc: 0.000282, val_loss: 0.000247\n",
      "|>>> epoch: 40  |   loss: 0.018408, loss_oc: 0.000197, val_loss: 0.000232\n",
      "|>>> epoch: 41  |   loss: 0.017377, loss_oc: 0.000198, val_loss: 0.000159\n",
      "|>>> epoch: 42  |   loss: 0.018990, loss_oc: 0.000289, val_loss: 0.000435\n",
      "|>>> epoch: 43  |   loss: 0.019859, loss_oc: 0.000262, val_loss: 0.000159\n",
      "|>>> epoch: 44  |   loss: 0.019528, loss_oc: 0.000292, val_loss: 0.000318\n",
      "|>>> epoch: 45  |   loss: 0.018184, loss_oc: 0.000236, val_loss: 0.000136\n",
      "|>>> epoch: 46  |   loss: 0.018508, loss_oc: 0.000269, val_loss: 0.000342\n",
      "|>>> epoch: 47  |   loss: 0.018691, loss_oc: 0.000242, val_loss: 0.000212\n",
      "|>>> epoch: 48  |   loss: 0.018887, loss_oc: 0.000182, val_loss: 0.000235\n",
      "|>>> epoch: 49  |   loss: 0.018165, loss_oc: 0.000246, val_loss: 0.000135\n",
      "|>>> epoch: 50  |   loss: 0.020221, loss_oc: 0.000254, val_loss: 0.000331\n"
     ]
    },
    {
     "ename": "",
     "evalue": "",
     "output_type": "error",
     "traceback": [
      "\u001b[1;31mThe Kernel crashed while executing code in the current cell or a previous cell. \n",
      "\u001b[1;31mPlease review the code in the cell(s) to identify a possible cause of the failure. \n",
      "\u001b[1;31mClick <a href='https://aka.ms/vscodeJupyterKernelCrash'>here</a> for more info. \n",
      "\u001b[1;31mView Jupyter <a href='command:jupyter.viewOutput'>log</a> for further details."
     ]
    }
   ],
   "source": [
    "clf_imu = COUTA(epochs=50)\n",
    "clf_imu.fit(train_imu)\n",
    "clf_audio = COUTA(epochs=50)\n",
    "clf_audio.fit(np.mean(train_audio,axis=-1))\n",
    "clf_all = COUTA(epochs=50)\n",
    "clf_all.fit(train_combine)"
   ]
  },
  {
   "cell_type": "code",
   "execution_count": null,
   "metadata": {},
   "outputs": [],
   "source": [
    "scores_audio      = clf_audio.decision_function(np.mean(test_audio_all,axis=-1))\n",
    "scores_imu        = clf_imu.decision_function(test_imu_all)\n",
    "scores_all        = clf_all.decision_function(test_combine)"
   ]
  },
  {
   "cell_type": "code",
   "execution_count": null,
   "metadata": {},
   "outputs": [
    {
     "name": "stdout",
     "output_type": "stream",
     "text": [
      "(0.9201270685041234, 0.9254275646267124, 0.8444394502791934, 0.8166189111747851, 0.8742331288343558)\n",
      "(0.7021627132220422, 0.669649183029929, 0.7403007963560592, 0.6, 0.9662576687116564)\n",
      "(0.8351477307895361, 0.826606815398993, 0.7654937258837397, 0.6826923076923077, 0.8711656441717791)\n"
     ]
    }
   ],
   "source": [
    "#auc, mean precision, F1, percision, recall\n",
    "eval_metrics_audio = ts_metrics(labels_all, scores_audio)\n",
    "eval_metrics_imu = ts_metrics(labels_all, scores_imu)\n",
    "result_audio = eval_metrics_audio\n",
    "result_imu = eval_metrics_imu\n",
    "eval_metrics_all = ts_metrics(labels_all, scores_all)\n",
    "result_all = eval_metrics_all\n",
    "\n",
    "print(result_audio)\n",
    "print(result_imu)\n",
    "print(result_all)"
   ]
  },
  {
   "cell_type": "code",
   "execution_count": null,
   "metadata": {},
   "outputs": [],
   "source": []
  }
 ],
 "metadata": {
  "kernelspec": {
   "display_name": "ai",
   "language": "python",
   "name": "python3"
  },
  "language_info": {
   "codemirror_mode": {
    "name": "ipython",
    "version": 3
   },
   "file_extension": ".py",
   "mimetype": "text/x-python",
   "name": "python",
   "nbconvert_exporter": "python",
   "pygments_lexer": "ipython3",
   "version": "3.8.19"
  }
 },
 "nbformat": 4,
 "nbformat_minor": 2
}
